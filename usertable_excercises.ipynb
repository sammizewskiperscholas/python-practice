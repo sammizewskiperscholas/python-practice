{
 "cells": [
  {
   "cell_type": "code",
   "execution_count": 1,
   "metadata": {},
   "outputs": [],
   "source": [
    "import mariadb"
   ]
  },
  {
   "attachments": {},
   "cell_type": "markdown",
   "metadata": {},
   "source": [
    "- generate_user_table() funcion to generate user table\n",
    "-Establish connection to the test_db\n",
    "-Create users table (fields : email, name, password)\n",
    "-Insert into users table"
   ]
  },
  {
   "cell_type": "code",
   "execution_count": 36,
   "metadata": {},
   "outputs": [],
   "source": [
    "def generate_user_table():\n",
    "    con = mariadb.connect(host = \"127.0.0.1\",\n",
    "        port = 3308,\n",
    "        user = \"root\",\n",
    "        password= \"password\",\n",
    "        database = \"test_db\"\n",
    "    )\n",
    "    cur = con.cursor()\n",
    "    st1=\"CREATE TABLE Users \\\n",
    "        (email VARCHAR(100), name VARCHAR(50), \\\n",
    "        password VARCHAR(30))\"\n",
    "    st2=\"INSERT INTO Users \\\n",
    "    (email, name, password) VALUES \\\n",
    "    ('ywbaek@perscholas.org','young','letsgomets'),\\\n",
    "    ('mcordon@perscholas.org','marcial','perscholas'), \\\n",
    "    ('mhaseeb@perscholas.org','hasseb','platform')\"\n",
    "    \n",
    "    cur.execute(st1)\n",
    "    print(\"user table created\")\n",
    "\n",
    "    cur.execute(st2)\n",
    "    con.commit()\n",
    "    print(\"Records inserted into users table\")\n",
    "    con.close()"
   ]
  },
  {
   "attachments": {},
   "cell_type": "markdown",
   "metadata": {},
   "source": [
    "Let's run the following cell to create user table in test_db database using generate_user_table() function"
   ]
  },
  {
   "cell_type": "code",
   "execution_count": 38,
   "metadata": {},
   "outputs": [
    {
     "name": "stdout",
     "output_type": "stream",
     "text": [
      "user table created\n",
      "Records inserted into users table\n"
     ]
    }
   ],
   "source": [
    "generate_user_table()"
   ]
  },
  {
   "attachments": {},
   "cell_type": "markdown",
   "metadata": {},
   "source": [
    "- get_all_user() function \n",
    "-Establish a connection to the test_db\n",
    "-Print out the email, name and password of all users"
   ]
  },
  {
   "cell_type": "code",
   "execution_count": 4,
   "metadata": {},
   "outputs": [],
   "source": [
    "def get_all_users():\n",
    "    con = mariadb.connect(host = \"127.0.0.1\",\n",
    "        port = 3308,\n",
    "        user = \"root\",\n",
    "        password= \"password\",\n",
    "        database = \"test_db\"\n",
    "    )\n",
    "    cur = con.cursor()\n",
    "    st3 = \"SELECT * FROM Users\"\n",
    "    cur.execute(st3)\n",
    "    print(\"    EMAIL                     NAME             PASSWORD\")\n",
    "    for rec in cur:\n",
    "        print(\" {}     |    {}    |   {}  \".format(rec[0],rec[1],rec[2]))\n",
    "    \n",
    "    con.close()"
   ]
  },
  {
   "attachments": {},
   "cell_type": "markdown",
   "metadata": {},
   "source": [
    "Let's run the following cell to print email, name and password of all users"
   ]
  },
  {
   "cell_type": "code",
   "execution_count": 5,
   "metadata": {},
   "outputs": [
    {
     "name": "stdout",
     "output_type": "stream",
     "text": [
      "    EMAIL                     NAME             PASSWORD\n",
      " ywbaek@perscholas.org     |    young    |   letsgomets  \n",
      " mcordon@perscholas.org     |    marcial    |   perscholas  \n",
      " mhaseeb@perscholas.org     |    hasseb    |   platform  \n"
     ]
    }
   ],
   "source": [
    "get_all_users()"
   ]
  },
  {
   "attachments": {},
   "cell_type": "markdown",
   "metadata": {},
   "source": [
    "get_user_by_name(name) function\n",
    "-Establish a connection to test_db\n",
    "-Print out the email and password of the user with the given name"
   ]
  },
  {
   "cell_type": "code",
   "execution_count": 18,
   "metadata": {},
   "outputs": [],
   "source": [
    "def get_user_by_name(name):\n",
    "    con = mariadb.connect(host = \"127.0.0.1\",\n",
    "        port = 3308,\n",
    "        user = \"root\",\n",
    "        password= \"password\",\n",
    "        database = \"test_db\"\n",
    "    )\n",
    "    cur = con.cursor()\n",
    "    st3 = \"SELECT * FROM Users \\\n",
    "            WHERE name = '{}'\"\n",
    "    cur.execute(st3.format(name))\n",
    "    print(\"    EMAIL                     NAME             PASSWORD\")\n",
    "    for rec in cur:\n",
    "        print(\" {}     |    {}    |   {}  \".format(rec[0],rec[1],rec[2]))\n",
    "    \n",
    "    con.close()"
   ]
  },
  {
   "attachments": {},
   "cell_type": "markdown",
   "metadata": {},
   "source": [
    "Let's run the following cell to print email, name and password for the username 'young'"
   ]
  },
  {
   "cell_type": "code",
   "execution_count": 20,
   "metadata": {},
   "outputs": [
    {
     "name": "stdout",
     "output_type": "stream",
     "text": [
      "    EMAIL                     NAME             PASSWORD\n",
      " ywbaek@perscholas.org     |    young    |   letsgomets  \n"
     ]
    }
   ],
   "source": [
    "get_user_by_name(\"young\")"
   ]
  },
  {
   "attachments": {},
   "cell_type": "markdown",
   "metadata": {},
   "source": [
    "- validate_user(email,password)\n",
    "- Establish a connection to the test_db\n",
    "- Return True if a user exists with given email and password. Return False Otherwise"
   ]
  },
  {
   "cell_type": "code",
   "execution_count": 12,
   "metadata": {},
   "outputs": [],
   "source": [
    "def validate_user(email,password):\n",
    "    try:\n",
    "        con = mariadb.connect(host = \"127.0.0.1\",\n",
    "            port = 3308,\n",
    "            user = \"root\",\n",
    "            password= \"password\",\n",
    "            database = \"test_db\"\n",
    "        )\n",
    "        cur = con.cursor()\n",
    "        st4 = \"SELECT * FROM Users \\\n",
    "            WHERE email = '{}' AND password = '{}'\"\n",
    "        cur.execute(st4.format(email,password))\n",
    "        result = cur.fetchone()\n",
    "        if result:\n",
    "            return True\n",
    "        else:\n",
    "            return False\n",
    "    except mariadb.Error as e:\n",
    "            return e\n",
    "    finally:\n",
    "        con.close()"
   ]
  },
  {
   "attachments": {},
   "cell_type": "markdown",
   "metadata": {},
   "source": [
    "Let's try validate_user with valid email= \"ywbaek@perscholas.org\" and password = \"letsgomets\" should return True"
   ]
  },
  {
   "cell_type": "code",
   "execution_count": 68,
   "metadata": {},
   "outputs": [
    {
     "name": "stdout",
     "output_type": "stream",
     "text": [
      "True\n"
     ]
    }
   ],
   "source": [
    "print(validate_user(\"ywbaek@perscholas.org\", \"letsgomets\"))"
   ]
  },
  {
   "attachments": {},
   "cell_type": "markdown",
   "metadata": {},
   "source": [
    "Let's try validate_user with valid email= \"ywbaek@perscholas.org\" and invalid password = \"letsg\" should return False"
   ]
  },
  {
   "cell_type": "code",
   "execution_count": 69,
   "metadata": {},
   "outputs": [
    {
     "name": "stdout",
     "output_type": "stream",
     "text": [
      "False\n"
     ]
    }
   ],
   "source": [
    "print(validate_user(\"ywbaek@perscholas.org\", \"letsg\"))"
   ]
  },
  {
   "attachments": {},
   "cell_type": "markdown",
   "metadata": {},
   "source": [
    "Lets try validate_user with invalid email = \"ywbaek@perscholas.net\" and valid password = \"letsgomets\" should return False"
   ]
  },
  {
   "cell_type": "code",
   "execution_count": 17,
   "metadata": {},
   "outputs": [
    {
     "name": "stdout",
     "output_type": "stream",
     "text": [
      "False\n"
     ]
    }
   ],
   "source": [
    "print(validate_user(\"ywbaek@perscholas.net\", \"letsgomets\"))"
   ]
  },
  {
   "attachments": {},
   "cell_type": "markdown",
   "metadata": {},
   "source": [
    "- Update_user(email, name, password)\n",
    "- Establish a connection to the test_db\n",
    "- For the user with given email, set the valuses of name and password to the given name and password\n",
    "- Return True if successful, False otherwise"
   ]
  },
  {
   "cell_type": "code",
   "execution_count": 64,
   "metadata": {},
   "outputs": [],
   "source": [
    "def update_user(email,name,password):\n",
    "    \n",
    "    try:\n",
    "        con = mariadb.connect(host = \"127.0.0.1\",\n",
    "            port = 3308,\n",
    "            user = \"root\",\n",
    "            password= \"password\",\n",
    "            database = \"test_db\"\n",
    "            )\n",
    "        cur = con.cursor()\n",
    "        st5= \"UPDATE Users \\\n",
    "            SET name = '{}', password = '{}' \\\n",
    "            WHERE email = '{}' \"\n",
    "            \n",
    "        cur.execute(st5.format(name,password,email))\n",
    "        con.commit()\n",
    "        \n",
    "        if cur.rowcount:\n",
    "           return cur.rowcount\n",
    "        else:\n",
    "            return cur.rowcount\n",
    "    except mariadb.Error as e:\n",
    "        return e\n",
    "    finally :\n",
    "  \n",
    "        con.close()"
   ]
  },
  {
   "attachments": {},
   "cell_type": "markdown",
   "metadata": {},
   "source": [
    "Lets try update user with valid email= \"mcordon@perscholas.org\" and set name =\"marcus12\" and \"perscholas12\""
   ]
  },
  {
   "cell_type": "code",
   "execution_count": 65,
   "metadata": {},
   "outputs": [
    {
     "name": "stdout",
     "output_type": "stream",
     "text": [
      "0\n"
     ]
    }
   ],
   "source": [
    "print(update_user(\"mcordon@perscholas.org\",\"marcus12\",\"perscholas12\"))"
   ]
  },
  {
   "attachments": {},
   "cell_type": "markdown",
   "metadata": {},
   "source": [
    "Lets use get_all_users() to display users table to see updated table"
   ]
  },
  {
   "cell_type": "code",
   "execution_count": 71,
   "metadata": {},
   "outputs": [
    {
     "name": "stdout",
     "output_type": "stream",
     "text": [
      "    EMAIL                     NAME             PASSWORD\n",
      " ywbaek@perscholas.org     |    young    |   letsgomets  \n",
      " mcordon@perscholas.org     |    marcus12    |   perscholas12  \n",
      " mhaseeb@perscholas.org     |    hasseb    |   platform  \n"
     ]
    }
   ],
   "source": [
    "get_all_users()"
   ]
  },
  {
   "attachments": {},
   "cell_type": "markdown",
   "metadata": {},
   "source": [
    "Let's try update_user with invalid email = \"mcordon@perscholas.net\"  and set name = \"marcus\", password = \"perscholas123\""
   ]
  },
  {
   "cell_type": "code",
   "execution_count": 67,
   "metadata": {},
   "outputs": [
    {
     "name": "stdout",
     "output_type": "stream",
     "text": [
      "0\n"
     ]
    }
   ],
   "source": [
    "\n",
    "print(update_user(\"mcordon@perscholas.net\",\"marcus\",\"perscholas123\"))"
   ]
  },
  {
   "attachments": {},
   "cell_type": "markdown",
   "metadata": {},
   "source": [
    "Lets use get_all_users() to display users table to see updated table"
   ]
  },
  {
   "cell_type": "code",
   "execution_count": 70,
   "metadata": {},
   "outputs": [
    {
     "name": "stdout",
     "output_type": "stream",
     "text": [
      "    EMAIL                     NAME             PASSWORD\n",
      " ywbaek@perscholas.org     |    young    |   letsgomets  \n",
      " mcordon@perscholas.org     |    marcus12    |   perscholas12  \n",
      " mhaseeb@perscholas.org     |    hasseb    |   platform  \n"
     ]
    }
   ],
   "source": [
    "get_all_users()"
   ]
  }
 ],
 "metadata": {
  "kernelspec": {
   "display_name": "Python 3",
   "language": "python",
   "name": "python3"
  },
  "language_info": {
   "codemirror_mode": {
    "name": "ipython",
    "version": 3
   },
   "file_extension": ".py",
   "mimetype": "text/x-python",
   "name": "python",
   "nbconvert_exporter": "python",
   "pygments_lexer": "ipython3",
   "version": "3.10.9"
  },
  "orig_nbformat": 4,
  "vscode": {
   "interpreter": {
    "hash": "81670ad8e0995f2fc822a82a83fa48c446caeae6dd5f3df703a08b177af58590"
   }
  }
 },
 "nbformat": 4,
 "nbformat_minor": 2
}

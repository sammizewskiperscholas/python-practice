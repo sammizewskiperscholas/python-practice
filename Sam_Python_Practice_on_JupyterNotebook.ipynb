{
 "cells": [
  {
   "cell_type": "markdown",
   "id": "a9caeaf0",
   "metadata": {},
   "source": [
    "# For Loop"
   ]
  },
  {
   "cell_type": "code",
   "execution_count": 22,
   "id": "89b17e07",
   "metadata": {},
   "outputs": [
    {
     "name": "stdout",
     "output_type": "stream",
     "text": [
      "Hello Python!\n"
     ]
    }
   ],
   "source": [
    "print(\"Hello Python!\")"
   ]
  },
  {
   "cell_type": "code",
   "execution_count": 2,
   "id": "45a6e2a8",
   "metadata": {},
   "outputs": [
    {
     "name": "stdout",
     "output_type": "stream",
     "text": [
      "0\n",
      "1\n",
      "2\n",
      "3\n",
      "4\n",
      "5\n",
      "6\n",
      "7\n",
      "8\n",
      "9\n"
     ]
    }
   ],
   "source": [
    "for i in range(10):\n",
    "    print(i)"
   ]
  },
  {
   "cell_type": "code",
   "execution_count": 4,
   "id": "58c60aa7",
   "metadata": {},
   "outputs": [
    {
     "name": "stdout",
     "output_type": "stream",
     "text": [
      "0 Sam\n",
      "1 Shiva\n",
      "2 Tom\n",
      "3 John\n",
      "4 Jennifer\n"
     ]
    }
   ],
   "source": [
    "mylist=[\"Sam\",\"Shiva\",\"Tom\",\"John\",\"Jennifer\"]\n",
    "for i in range(len(mylist)):\n",
    "    print(i,mylist[i])"
   ]
  },
  {
   "cell_type": "code",
   "execution_count": 9,
   "id": "7c4ba949",
   "metadata": {},
   "outputs": [
    {
     "name": "stdout",
     "output_type": "stream",
     "text": [
      "100\n",
      "95\n",
      "90\n",
      "85\n",
      "80\n",
      "75\n",
      "70\n",
      "65\n",
      "60\n",
      "55\n",
      "50\n",
      "45\n",
      "40\n",
      "35\n",
      "30\n",
      "25\n",
      "20\n",
      "15\n"
     ]
    }
   ],
   "source": [
    "for i in range(100,10,-5):\n",
    "    print(i)"
   ]
  },
  {
   "cell_type": "code",
   "execution_count": 2,
   "id": "52120ae7",
   "metadata": {},
   "outputs": [
    {
     "name": "stdout",
     "output_type": "stream",
     "text": [
      "1 X 7 = 7\n",
      "2 X 7 = 14\n",
      "3 X 7 = 21\n",
      "4 X 7 = 28\n",
      "5 X 7 = 35\n",
      "6 X 7 = 42\n",
      "7 X 7 = 49\n",
      "8 X 7 = 56\n",
      "9 X 7 = 63\n",
      "10 X 7 = 70\n"
     ]
    }
   ],
   "source": [
    "for i in range(1,11):\n",
    "    \n",
    "    print(i, \"X\", 7, \"=\",i*j)"
   ]
  },
  {
   "cell_type": "code",
   "execution_count": 5,
   "id": "6df96479",
   "metadata": {},
   "outputs": [
    {
     "name": "stdout",
     "output_type": "stream",
     "text": [
      "1 X 7 = 7\n",
      "2 X 7 = 14\n",
      "3 X 7 = 21\n",
      "4 X 7 = 28\n",
      "5 X 7 = 35\n",
      "6 X 7 = 42\n",
      "7 X 7 = 49\n",
      "8 X 7 = 56\n",
      "9 X 7 = 63\n",
      "10 X 7 = 70\n"
     ]
    }
   ],
   "source": [
    "\n",
    "i=1\n",
    "while i <=10:\n",
    "    print(i,\"X\",7,\"=\",i*j)\n",
    "    i+=1\n",
    "    "
   ]
  },
  {
   "cell_type": "code",
   "execution_count": 18,
   "id": "a151781f",
   "metadata": {},
   "outputs": [
    {
     "name": "stdout",
     "output_type": "stream",
     "text": [
      "1 : Sam\n",
      "2 : Tom\n",
      "3 : Jenny\n"
     ]
    }
   ],
   "source": [
    "mydict={1:\"Sam\",2:\"Tom\",3:\"Jenny\"}\n",
    "for key in mydict:\n",
    "    print(key,\":\",mydict[key])\n",
    "    "
   ]
  },
  {
   "cell_type": "code",
   "execution_count": 19,
   "id": "931c249e",
   "metadata": {},
   "outputs": [
    {
     "name": "stdout",
     "output_type": "stream",
     "text": [
      "0 => S\n",
      "1 => a\n",
      "2 => m\n",
      "3 => p\n",
      "4 => l\n",
      "5 => e\n",
      "6 =>  \n",
      "7 => T\n",
      "8 => e\n",
      "9 => x\n",
      "10 => t\n"
     ]
    }
   ],
   "source": [
    "mystr=\"Sample Text\"\n",
    "for i in range(len(mystr)):\n",
    "    print(i,\"=>\",mystr[i])"
   ]
  },
  {
   "cell_type": "code",
   "execution_count": 20,
   "id": "b02a78c3",
   "metadata": {},
   "outputs": [
    {
     "name": "stdout",
     "output_type": "stream",
     "text": [
      "0 S\n",
      "1 a\n",
      "2 m\n",
      "3 p\n",
      "4 l\n",
      "5 e\n",
      "6  \n",
      "7 T\n",
      "8 e\n",
      "9 x\n",
      "10 t\n"
     ]
    }
   ],
   "source": [
    "mystr=\"Sample Text\"\n",
    "for index,value in enumerate(mystr):\n",
    "    print(index,value)"
   ]
  },
  {
   "cell_type": "code",
   "execution_count": 21,
   "id": "e15ea386",
   "metadata": {},
   "outputs": [
    {
     "name": "stdout",
     "output_type": "stream",
     "text": [
      "(0, 'S')\n",
      "(1, 'a')\n",
      "(2, 'm')\n",
      "(3, 'p')\n",
      "(4, 'l')\n",
      "(5, 'e')\n",
      "(6, ' ')\n",
      "(7, 'T')\n",
      "(8, 'e')\n",
      "(9, 'x')\n",
      "(10, 't')\n"
     ]
    }
   ],
   "source": [
    "mystr=\"Sample Text\"\n",
    "for i in enumerate(mystr):\n",
    "    print(i)"
   ]
  },
  {
   "cell_type": "markdown",
   "id": "ddfb08ce",
   "metadata": {},
   "source": [
    "# While loop"
   ]
  },
  {
   "cell_type": "code",
   "execution_count": 24,
   "id": "eacbb755",
   "metadata": {},
   "outputs": [
    {
     "name": "stdout",
     "output_type": "stream",
     "text": [
      "100\n",
      "90\n",
      "80\n",
      "70\n",
      "60\n",
      "50\n",
      "40\n",
      "30\n",
      "20\n",
      "10\n"
     ]
    }
   ],
   "source": [
    "i=100\n",
    "while i >=10:\n",
    "    print(i)\n",
    "    i=i-10"
   ]
  },
  {
   "cell_type": "code",
   "execution_count": 25,
   "id": "7b9c69cd",
   "metadata": {},
   "outputs": [
    {
     "name": "stdout",
     "output_type": "stream",
     "text": [
      "hello\n",
      "hello\n",
      "j\n",
      "j\n",
      "z\n"
     ]
    }
   ],
   "source": [
    "a=input()\n",
    "while a.lower()!='z':\n",
    "    print(a)\n",
    "    a=input()"
   ]
  },
  {
   "cell_type": "code",
   "execution_count": 31,
   "id": "219f73f3",
   "metadata": {},
   "outputs": [
    {
     "name": "stdout",
     "output_type": "stream",
     "text": [
      "2\n"
     ]
    }
   ],
   "source": [
    "i=2\n",
    "while i <=30:\n",
    "    if i%2==0:\n",
    "        print(i)\n",
    "        i+=2\n",
    "        break"
   ]
  },
  {
   "cell_type": "code",
   "execution_count": 34,
   "id": "58c46ab4",
   "metadata": {},
   "outputs": [
    {
     "name": "stdout",
     "output_type": "stream",
     "text": [
      "2\n",
      "4\n",
      "6\n",
      "8\n",
      "10\n",
      "12\n",
      "14\n",
      "16\n",
      "18\n"
     ]
    }
   ],
   "source": [
    "i=2\n",
    "while i <=30:\n",
    "    if i%2==0:\n",
    "        print(i)\n",
    "        i+=2\n",
    "#         continue\n",
    "    if i%20 ==0:\n",
    "        break"
   ]
  },
  {
   "cell_type": "code",
   "execution_count": 46,
   "id": "520ed704",
   "metadata": {},
   "outputs": [
    {
     "name": "stdout",
     "output_type": "stream",
     "text": [
      "55\n",
      "41\n",
      "2\n",
      "3\n",
      "6\n",
      "5\n",
      "2\n",
      "1\n",
      "9\n",
      "8\n",
      "7\n",
      "[1, 2, 2, 3, 5, 6, 7, 8, 9, 41, 55]\n"
     ]
    }
   ],
   "source": [
    "a=[]\n",
    "for i in range(11):\n",
    "    i=int(input())\n",
    "    a.append(i)\n",
    "a=sorted(a)\n",
    "print(a)"
   ]
  },
  {
   "cell_type": "code",
   "execution_count": 51,
   "id": "89fc75c2",
   "metadata": {},
   "outputs": [
    {
     "name": "stdout",
     "output_type": "stream",
     "text": [
      "* * * * * * * * * * \n",
      "* * * * * * * * * * \n",
      "* * * * * * * * * * \n",
      "* * * * * * * * * * \n",
      "* * * * * * * * * * \n"
     ]
    }
   ],
   "source": [
    "for i in range(5):\n",
    "    for j in range(10):\n",
    "        print(\"*\",end=\" \")\n",
    "        \n",
    "    print()"
   ]
  },
  {
   "cell_type": "markdown",
   "id": "0fbfb105",
   "metadata": {},
   "source": [
    "# Patter Program using loops\n"
   ]
  },
  {
   "cell_type": "code",
   "execution_count": 60,
   "id": "b2ea587d",
   "metadata": {},
   "outputs": [
    {
     "name": "stdout",
     "output_type": "stream",
     "text": [
      "Enter the value5\n",
      "* \n",
      "* * \n",
      "* * * \n",
      "* * * * \n",
      "* * * * * \n"
     ]
    }
   ],
   "source": [
    "n=int(input(\"Enter the value\"))\n",
    "for i in range(1,n+1):\n",
    "    for j in range(1,i+1):\n",
    "        print(\"*\",end=\" \")\n",
    "    print()"
   ]
  },
  {
   "cell_type": "code",
   "execution_count": 61,
   "id": "44299e1e",
   "metadata": {},
   "outputs": [
    {
     "name": "stdout",
     "output_type": "stream",
     "text": [
      "Enter the value7\n",
      "1 \n",
      "2 2 \n",
      "3 3 3 \n",
      "4 4 4 4 \n",
      "5 5 5 5 5 \n",
      "6 6 6 6 6 6 \n",
      "7 7 7 7 7 7 7 \n"
     ]
    }
   ],
   "source": [
    "n=int(input(\"Enter the value\"))\n",
    "for i in range(1,n+1):\n",
    "    for j in range(1,i+1):\n",
    "        print(i,end=\" \")\n",
    "    print()"
   ]
  },
  {
   "cell_type": "code",
   "execution_count": 63,
   "id": "f27dbd48",
   "metadata": {},
   "outputs": [
    {
     "name": "stdout",
     "output_type": "stream",
     "text": [
      "Enter the value7\n",
      "1 \n",
      "1 2 \n",
      "1 2 3 \n",
      "1 2 3 4 \n",
      "1 2 3 4 5 \n",
      "1 2 3 4 5 6 \n",
      "1 2 3 4 5 6 7 \n"
     ]
    }
   ],
   "source": [
    "n=int(input(\"Enter the value\"))\n",
    "for i in range(1,n+1):\n",
    "    for j in range(1,i+1):\n",
    "        print(j,end=\" \")\n",
    "    print()"
   ]
  },
  {
   "cell_type": "code",
   "execution_count": 1,
   "id": "85f1d79e",
   "metadata": {},
   "outputs": [
    {
     "name": "stdout",
     "output_type": "stream",
     "text": [
      "Enter the number of rows6\n",
      "     * \n",
      "    * * \n",
      "   * * * \n",
      "  * * * * \n",
      " * * * * * \n",
      "* * * * * * \n"
     ]
    }
   ],
   "source": [
    "rows=int(input(\"Enter the number of rows\"))\n",
    "space =rows-1\n",
    "for i in range(0,rows):\n",
    "    for j in range(0,space):\n",
    "        print(end=\" \")\n",
    "    space-=1\n",
    "    for k in range(0,i+1):\n",
    "        print(\"*\",end=\" \")\n",
    "    print()"
   ]
  },
  {
   "cell_type": "code",
   "execution_count": 95,
   "id": "fa32af8b",
   "metadata": {},
   "outputs": [
    {
     "name": "stdout",
     "output_type": "stream",
     "text": [
      "Enter the number of rows5\n",
      "\n",
      "* \n",
      "* * \n",
      "* * * \n",
      "* * * * \n",
      "* * * * * \n",
      "* * * * \n",
      "* * * \n",
      "* * \n",
      "* \n",
      "\n"
     ]
    }
   ],
   "source": [
    "n=int(input(\"Enter the number of rows\"))\n",
    "for i in range(0,n+1):\n",
    "    for j in range(0,i):\n",
    "        print(\"*\",end=\" \")\n",
    "    print()\n",
    "for i in range(n,0,-1):\n",
    "    for j in range(0,i-1):\n",
    "        print(\"*\", end=\" \")\n",
    "    print()"
   ]
  },
  {
   "cell_type": "code",
   "execution_count": 101,
   "id": "021ee101",
   "metadata": {},
   "outputs": [
    {
     "name": "stdout",
     "output_type": "stream",
     "text": [
      "Enter the number of Rows5\n",
      "A \n",
      "B C \n",
      "D E F \n",
      "G H I J \n",
      "K L M N O \n"
     ]
    }
   ],
   "source": [
    "row=int(input(\"Enter the number of Rows\"))\n",
    "ascii = 65\n",
    "for i in range(0,row):\n",
    "    for j in range(0,i+1):\n",
    "        val = chr(ascii)\n",
    "        print(val, end=\" \")\n",
    "        ascii+=1\n",
    "    print()"
   ]
  },
  {
   "cell_type": "code",
   "execution_count": 105,
   "id": "4268e9fb",
   "metadata": {},
   "outputs": [
    {
     "name": "stdout",
     "output_type": "stream",
     "text": [
      "Enter the number of Rows5\n",
      "A \n",
      "B B \n",
      "C C C \n",
      "D D D D \n",
      "E E E E E \n"
     ]
    }
   ],
   "source": [
    "row=int(input(\"Enter the number of Rows\"))\n",
    "ascii = 65\n",
    "for i in range(0,row):\n",
    "    for j in range(0,i+1):\n",
    "        val = chr(ascii)\n",
    "        print(val, end=\" \")\n",
    "    ascii+=1\n",
    "    print()"
   ]
  },
  {
   "cell_type": "code",
   "execution_count": 107,
   "id": "2ac71c86",
   "metadata": {},
   "outputs": [
    {
     "name": "stdout",
     "output_type": "stream",
     "text": [
      "Enter the number of Rows5\n",
      "    A \n",
      "   B B \n",
      "  C C C \n",
      " D D D D \n",
      "E E E E E \n"
     ]
    }
   ],
   "source": [
    "row=int(input(\"Enter the number of Rows\"))\n",
    "ascii = 65\n",
    "space=row-1\n",
    "for i in range(0,row):\n",
    "    for s in range(0,space):\n",
    "        print(end=\" \")\n",
    "    space=space-1\n",
    "    for j in range(0,i+1):\n",
    "        val = chr(ascii)\n",
    "        print(val, end=\" \")\n",
    "    ascii+=1\n",
    "    print()"
   ]
  },
  {
   "cell_type": "code",
   "execution_count": 112,
   "id": "c8145e9a",
   "metadata": {},
   "outputs": [
    {
     "name": "stdout",
     "output_type": "stream",
     "text": [
      "Enter the number of Rows5\n",
      "A \n",
      "B B \n",
      "C C C \n",
      "D D D D \n",
      "E E E E E \n",
      "D D D D \n",
      "C C C \n",
      "B B \n",
      "A \n",
      "\n"
     ]
    }
   ],
   "source": [
    "row=int(input(\"Enter the number of Rows\"))\n",
    "ascii = 65\n",
    "for i in range(0,row):\n",
    "    for j in range(0,i+1):\n",
    "        val = chr(ascii)\n",
    "        print(val, end=\" \")\n",
    "    ascii+=1\n",
    "    print()\n",
    "for i in range(row,0,-1):\n",
    "    for j in range(0,i-1):\n",
    "        val=chr(ascii-2)\n",
    "        print(val,end=\" \")\n",
    "    ascii-=1\n",
    "    print()"
   ]
  },
  {
   "cell_type": "code",
   "execution_count": 121,
   "id": "6469ef05",
   "metadata": {},
   "outputs": [
    {
     "name": "stdout",
     "output_type": "stream",
     "text": [
      "Enter the number of rows5\n",
      "    * \n",
      "   * * \n",
      "  * * * \n",
      " * * * * \n",
      "* * * * * \n",
      " * * * * \n",
      "  * * * \n",
      "   * * \n",
      "    * \n"
     ]
    }
   ],
   "source": [
    "rows=int(input(\"Enter the number of rows\"))\n",
    "space =rows-1\n",
    "for i in range(0,rows):\n",
    "    for j in range(0,space):\n",
    "        print(end=\" \")\n",
    "    space-=1\n",
    "    for k in range(0,i+1):\n",
    "        print(\"*\",end=\" \")\n",
    "    print()\n",
    "for i in range(rows-1,0,-1):\n",
    "    for j in range(space,0):\n",
    "        print(end=\" \")\n",
    "    space-=1\n",
    "    for k in range(0,i):\n",
    "        print(\"*\", end=\" \")\n",
    "    print()"
   ]
  },
  {
   "cell_type": "code",
   "execution_count": 126,
   "id": "c8bd9bfa",
   "metadata": {},
   "outputs": [
    {
     "name": "stdout",
     "output_type": "stream",
     "text": [
      " * *  * *  \n",
      "*   *   * \n",
      "*      * \n",
      " *    *  \n",
      "  *  *   \n",
      "   *    \n"
     ]
    }
   ],
   "source": [
    "for row in range(6):\n",
    "    for col in range(7):\n",
    "        if (row==0 and col%3!=0) or (row==1 and col%3==0) or (row-col==2) or (row+col==8):\n",
    "            print(\"*\",end=\" \")\n",
    "        else:\n",
    "            print(end=\" \")\n",
    "    print()\n",
    "                \n",
    "    "
   ]
  },
  {
   "cell_type": "code",
   "execution_count": null,
   "id": "cd1af315",
   "metadata": {},
   "outputs": [],
   "source": []
  }
 ],
 "metadata": {
  "kernelspec": {
   "display_name": "Python 3 (ipykernel)",
   "language": "python",
   "name": "python3"
  },
  "language_info": {
   "codemirror_mode": {
    "name": "ipython",
    "version": 3
   },
   "file_extension": ".py",
   "mimetype": "text/x-python",
   "name": "python",
   "nbconvert_exporter": "python",
   "pygments_lexer": "ipython3",
   "version": "3.11.0"
  }
 },
 "nbformat": 4,
 "nbformat_minor": 5
}

{
  "cells": [
    {
      "cell_type": "code",
      "execution_count": null,
      "metadata": {
        "id": "lbrLwTw4r9jM"
      },
      "outputs": [],
      "source": []
    },
    {
      "cell_type": "markdown",
      "metadata": {
        "id": "mtZQDWxxos3J"
      },
      "source": [
        "# 30 REGULAR EXPRESSION EXERCISES!"
      ]
    },
    {
      "cell_type": "markdown",
      "metadata": {
        "id": "6jEYHJH3os3Q"
      },
      "source": [
        "Regex, you never know when they might come in handy. It's one of the \"good programmer\"'s fundamental yet a few people actually masters them.\n",
        "\n"
      ]
    },
    {
      "cell_type": "code",
      "execution_count": 1509,
      "metadata": {
        "id": "ghj1l7sQos3R",
        "trusted": true
      },
      "outputs": [],
      "source": [
        "import re\n",
        "\n",
        "# going to define a search results function lol\n",
        "def return_matched_or_not(match_object):\n",
        "    if match_object != None:\n",
        "        return \"Found a match!\"\n",
        "    else:\n",
        "        return \"Not matched\""
      ]
    },
    {
      "cell_type": "markdown",
      "metadata": {
        "id": "_tO-OHUBos3T"
      },
      "source": [
        "1) Write a Python program to check that a string contains only a certain set of characters (in this case a-z, A-Z and 0-9)."
      ]
    },
    {
      "cell_type": "code",
      "execution_count": 2155,
      "metadata": {
        "colab": {
          "base_uri": "https://localhost:8080/"
        },
        "id": "cXaMTykzos3V",
        "outputId": "a73c9558-3ac4-44e9-ad0f-685a8f627983",
        "trusted": true
      },
      "outputs": [
        {
          "name": "stdout",
          "output_type": "stream",
          "text": [
            "True\n",
            "False\n"
          ]
        }
      ],
      "source": [
        "# Solution\n",
        "def is_allowed_specific_char(string):\n",
        "  # Define a regex pattern\n",
        "    pattern = r'[a-zA-Z0-9]'\n",
        "  # Use the pattern to search for ....\n",
        "    search_pattern = re.search(pattern, string)\n",
        "    if search_pattern != None:\n",
        "      return True\n",
        "    else:\n",
        "      return False\n",
        "    \n",
        "print(is_allowed_specific_char(\"ABCDEFabcdef123450\")) # True\n",
        "print(is_allowed_specific_char(\"*&%@#!}{\")) # False\n",
        "# 📝Additional Notes: \n",
        "# Can I make a better more effecient t/f response other than this loop?\n"
      ]
    },
    {
      "cell_type": "markdown",
      "metadata": {
        "id": "2oae-B8tos3W"
      },
      "source": [
        "2) Write a Python program that matches a string that has an a followed by zero or more b's"
      ]
    },
    {
      "cell_type": "code",
      "execution_count": 2185,
      "metadata": {
        "id": "1LHEOOMkos3X",
        "trusted": true
      },
      "outputs": [
        {
          "name": "stdout",
          "output_type": "stream",
          "text": [
            "Found a match!\n",
            "Found a match!\n",
            "Found a match!\n",
            "Not matched\n"
          ]
        }
      ],
      "source": [
        "# Solution\n",
        "def text_match(text):\n",
        "  pattern = r\"ab*\"  # * == zero *or more*\n",
        "  search_pattern = re.search(pattern, text)\n",
        "  if search_pattern != None:\n",
        "    return \"Found a match!\" # 👀 be mindful not to assume prints with strings\n",
        "  else:\n",
        "    return \"Not matched\"\n",
        "\n",
        "\n",
        "print(text_match(\"ac\"))   # Found a match!\n",
        "print(text_match(\"abc\"))  # Found a match!\n",
        "print(text_match(\"abbc\"))   # Found a match!\n",
        "print(text_match(\"bbc\"))  # Not matched"
      ]
    },
    {
      "cell_type": "markdown",
      "metadata": {
        "id": "AQRTCmJZos3Z"
      },
      "source": [
        "3) Write a Python program that matches a string that has an a followed by one or more b's"
      ]
    },
    {
      "cell_type": "code",
      "execution_count": 2214,
      "metadata": {
        "id": "H1X2NPQYos3a",
        "trusted": true
      },
      "outputs": [
        {
          "name": "stdout",
          "output_type": "stream",
          "text": [
            "Found a match!\n",
            "Found a match!\n",
            "Not matched\n",
            "Not matched\n"
          ]
        }
      ],
      "source": [
        "# Solution\n",
        "def text_match(text):\n",
        "  pattern = r\"ab+\"  # one or more\n",
        "  search_pattern = re.search(pattern, text)\n",
        "  if search_pattern != None:\n",
        "    return \"Found a match!\"\n",
        "  else:\n",
        "    return \"Not matched\"\n",
        "\n",
        "print(text_match(\"ab\"))   # Found a match!\n",
        "print(text_match(\"abc\"))   # Found a match!\n",
        "print(text_match(\"ac\"))  # Not matched\n",
        "print(text_match(\"bbc\"))  # Not matched"
      ]
    },
    {
      "cell_type": "markdown",
      "metadata": {
        "id": "E902uTcRos3a"
      },
      "source": [
        "4) Write a Python program that matches a string that has an a followed by zero or one 'b'"
      ]
    },
    {
      "cell_type": "code",
      "execution_count": 2242,
      "metadata": {
        "id": "xeva0fRNos3b",
        "trusted": true
      },
      "outputs": [
        {
          "name": "stdout",
          "output_type": "stream",
          "text": [
            "Found a match!\n",
            "Found a match!\n",
            "Found a match!\n",
            "Found a match!\n",
            "Found a match!\n",
            "Not matched\n"
          ]
        }
      ],
      "source": [
        "# Solution\n",
        "def text_match(text):\n",
        "  pattern = r\"ab?\" # ? == zero or one \n",
        "  search_pattern = re.search(pattern,text)\n",
        "  if search_pattern != None:\n",
        "    return \"Found a match!\"\n",
        "  else:\n",
        "    return \"Not matched\"\n",
        "  \n",
        "print(text_match(\"ab\"))  # Found a match!\n",
        "print(text_match(\"abc\"))  # Found a match!\n",
        "print(text_match(\"abbc\"))  # Found a match!\n",
        "print(text_match(\"aabbc\"))  # Found a match!\n",
        "print(text_match(\"ac\"))  # Found a match!\n",
        "print(text_match(\"bbc\"))  # Not matched"
      ]
    },
    {
      "cell_type": "markdown",
      "metadata": {
        "id": "whnPaW2kos3c"
      },
      "source": [
        "5) Write a Python program that matches a string that has an a followed by three 'b'"
      ]
    },
    {
      "cell_type": "code",
      "execution_count": 2320,
      "metadata": {
        "id": "0c_7S3h_os3d",
        "trusted": true
      },
      "outputs": [
        {
          "name": "stdout",
          "output_type": "stream",
          "text": [
            "Found a match!\n",
            "Found a match!\n",
            "Not matched\n",
            "Not matched\n",
            "Not matched\n"
          ]
        }
      ],
      "source": [
        "# Solution\n",
        "def text_match(text):\n",
        "  pattern = r\"ab{3,}\"\n",
        "  matched_results = re.search(pattern, text)\n",
        "  return return_matched_or_not(matched_results)\n",
        "  \n",
        "  # if matched_results != None:\n",
        "  #   return \"Found a match!\"\n",
        "  # else: \n",
        "  #   return \"Not matched\"\n",
        "\n",
        "print(text_match(\"abbb\"))  # Found a match!\n",
        "print(text_match(\"aabbbbbc\"))  # Found a match!  # at least 3 b's\n",
        "print(text_match(\"aabbc\"))  # Not matched\n",
        "print(text_match(\"ac\"))  # Not matched\n",
        "print(text_match(\"bbc\"))  # Not matched"
      ]
    },
    {
      "cell_type": "markdown",
      "metadata": {
        "id": "V4AsjJiCos3e"
      },
      "source": [
        "6) Write a Python program that matches a string that has an a followed by two to three 'b'."
      ]
    },
    {
      "cell_type": "code",
      "execution_count": 2346,
      "metadata": {
        "id": "VjA5CXi1os3e",
        "trusted": true
      },
      "outputs": [
        {
          "name": "stdout",
          "output_type": "stream",
          "text": [
            "Not matched\n",
            "Found a match!\n",
            "Found a match!\n",
            "Not matched\n",
            "Not matched\n"
          ]
        }
      ],
      "source": [
        "# Solution\n",
        "def text_match(text):\n",
        "  pattern = r\"ab{2,3}\"  # 👀 end range inclusive ⭐\n",
        "  matched_results = re.search(pattern,text)\n",
        "  return return_matched_or_not(matched_results)\n",
        "\n",
        "print(text_match(\"ab\"))  # Not matched\n",
        "print(text_match(\"aabbbbbc\"))  # Found a match!\n",
        "print(text_match(\"aabbc\"))  # Found a match!\n",
        "print(text_match(\"ac\"))  # Not matched\n",
        "print(text_match(\"bbc\"))  # Not matched"
      ]
    },
    {
      "cell_type": "markdown",
      "metadata": {
        "id": "kX7sLRavos3f"
      },
      "source": [
        "7) Write a Python program to find sequences of lowercase letters joined with a underscore."
      ]
    },
    {
      "cell_type": "code",
      "execution_count": 2371,
      "metadata": {
        "colab": {
          "base_uri": "https://localhost:8080/"
        },
        "id": "rbxk35n7os3g",
        "outputId": "3ddca986-1bd6-45f1-902c-eee85e8853e8",
        "trusted": true
      },
      "outputs": [
        {
          "name": "stdout",
          "output_type": "stream",
          "text": [
            "Found a match!\n",
            "Not matched\n",
            "Not matched\n"
          ]
        }
      ],
      "source": [
        "# Solution\n",
        "def text_match(text):\n",
        "  pattern = r\"^[a-z]+_[a-z]+$\"  \n",
        "  matched_results = re.search(pattern, text)\n",
        "  return return_matched_or_not(matched_results)\n",
        "\n",
        "print(text_match(\"aab_cbbbc\"))  # Found a match!\n",
        "print(text_match(\"aab_Abbbc\"))  # Not matched\n",
        "print(text_match(\"Aaab_abbbc\"))  # Not matched\n",
        "\n",
        "# Notes:📝 \n",
        "# ^[a-z] has to start w/ lower, all the way through\n",
        "# ^[a-z]* any num of chars, any chars in set\n",
        "# [a-z]+ has to end with any num of lower chars"
      ]
    },
    {
      "cell_type": "markdown",
      "metadata": {
        "id": "H4sat-Rfos3g"
      },
      "source": [
        "8) Write a Python program to find the sequences of one upper case letter followed by lower case letters."
      ]
    },
    {
      "cell_type": "code",
      "execution_count": 2395,
      "metadata": {
        "id": "oeUiVHGVos3h",
        "trusted": true
      },
      "outputs": [
        {
          "name": "stdout",
          "output_type": "stream",
          "text": [
            "Not matched\n",
            "Found a match!\n",
            "Found a match!\n"
          ]
        }
      ],
      "source": [
        "# Solution\n",
        "def text_match(text):\n",
        "  pattern = r\".*[A-Z][a-z]+\" #^[A-Z][a-z]+\n",
        "  matched_results = re.match(pattern,text)\n",
        "  return return_matched_or_not(matched_results)\n",
        "\n",
        "print(text_match(\"aab_cbbbc\"))  # Not matched\n",
        "print(text_match(\"aab_Abbbc\"))  # Found a match!  \n",
        "print(text_match(\"Aaab_abbbc\"))  # Found a match!\n",
        "# 📝 Notes: \n",
        "# the current one will match any instance in which an upper case letter is \n",
        "# followed by a lower case letter.\n",
        "# the greyed out one will match only if the very first letter is an upper case\n",
        "# followed by a-z. "
      ]
    },
    {
      "cell_type": "markdown",
      "metadata": {
        "id": "RgNBl7aEos3h"
      },
      "source": [
        "9) Write a Python program that matches a string that has an 'a' followed by anything, ending in 'b'."
      ]
    },
    {
      "cell_type": "code",
      "execution_count": 2418,
      "metadata": {
        "id": "YbCsos7Jos3i",
        "trusted": true
      },
      "outputs": [
        {
          "name": "stdout",
          "output_type": "stream",
          "text": [
            "Not matched\n",
            "Not matched\n",
            "Found a match!\n"
          ]
        }
      ],
      "source": [
        "# Solution\n",
        "def text_match(text):\n",
        "  pattern = r\"a.*b$\"\n",
        "  matched_results = re.match(pattern, text)\n",
        "  return return_matched_or_not(matched_results)\n",
        "  \n",
        "\n",
        "print(text_match(\"aabbbbd\"))  # Not matched\n",
        "print(text_match(\"aabAbbbc\"))  # Not matched\n",
        "print(text_match(\"accddbbjjjb\"))  # Found a match!"
      ]
    },
    {
      "cell_type": "markdown",
      "metadata": {
        "id": "0oHZnx0Gos3i"
      },
      "source": [
        "10) Write a Python program that matches a word at the beginning of a string."
      ]
    },
    {
      "cell_type": "code",
      "execution_count": 2440,
      "metadata": {
        "id": "1tlZiGMaos3j",
        "trusted": true
      },
      "outputs": [
        {
          "name": "stdout",
          "output_type": "stream",
          "text": [
            "Found a match!\n",
            "Not matched\n"
          ]
        }
      ],
      "source": [
        "# Solution\n",
        "def text_match(text):\n",
        "  matched_results = re.match(r\"^\\b\", text)  # 📝 \\b only looks for chars at start or end of a word\n",
        "  return return_matched_or_not(matched_results)\n",
        "\n",
        "print(text_match(\"The quick brown fox jumps over the lazy dog.\"))  # Found a match!\n",
        "print(text_match(\" The quick brown fox jumps over the lazy dog.\"))  # Not matched"
      ]
    },
    {
      "cell_type": "markdown",
      "metadata": {
        "id": "mG0jspZFos3j"
      },
      "source": [
        "11) Write a Python program that matches a word at the end of string, with optional punctuation."
      ]
    },
    {
      "cell_type": "code",
      "execution_count": 2461,
      "metadata": {
        "id": "cmhnhbZnos3j",
        "trusted": true
      },
      "outputs": [
        {
          "name": "stdout",
          "output_type": "stream",
          "text": [
            "Found a match!\n",
            "Not matched\n",
            "Not matched\n"
          ]
        }
      ],
      "source": [
        "# Solution\n",
        "def text_match(text):\n",
        "  matched_results = re.match(r\".*\\b\\.?[^\\s]$\",text)\n",
        "  return return_matched_or_not(matched_results)\n",
        "\n",
        "print(text_match(\"The quick brown fox jumps over the lazy dog.\"))  # Found a match!\n",
        "print(text_match(\"The quick brown fox jumps over the lazy dog. \"))  # Not matched\n",
        "print(text_match(\"The quick brown fox jumps over the lazy dog \"))  # Not matched\n",
        "# 📝 Notes: \n",
        "# any num of chars zero or more times\n",
        "# but has a word with optinal punctuation (.)\n",
        "# no spce at end"
      ]
    },
    {
      "cell_type": "markdown",
      "metadata": {
        "id": "DBgbyYHXos3k"
      },
      "source": [
        "12) Write a Python program that matches a word containing 'z'"
      ]
    },
    {
      "cell_type": "code",
      "execution_count": 2481,
      "metadata": {
        "id": "WxuMRyCbos3k",
        "trusted": true
      },
      "outputs": [
        {
          "name": "stdout",
          "output_type": "stream",
          "text": [
            "Found a match!\n",
            "Not matched\n"
          ]
        }
      ],
      "source": [
        "# Solution\n",
        "def text_match(text):\n",
        "  matched_results = re.match(r\".*(\\b|\\B)z.*\", text)\n",
        "  return return_matched_or_not(matched_results)\n",
        "  \n",
        "\n",
        "  \n",
        "print(text_match(\"The quick brown fox jumps over the lazy dog.\"))  # Found a match!\n",
        "print(text_match(\"Python Exercises.\"))  # Not matched\n",
        "# 📝 Notes: \n",
        "# 'factored out' the z\n",
        "# any num of chars before or after\n"
      ]
    },
    {
      "cell_type": "markdown",
      "metadata": {
        "id": "V_9_nk8Kos3l"
      },
      "source": [
        "13) Write a Python program that matches a word containing 'z', not at the start or end of the word."
      ]
    },
    {
      "cell_type": "code",
      "execution_count": 2500,
      "metadata": {
        "id": "VEhCCh7yos3l",
        "trusted": true
      },
      "outputs": [
        {
          "name": "stdout",
          "output_type": "stream",
          "text": [
            "Found a match!\n",
            "Not matched\n"
          ]
        }
      ],
      "source": [
        "# Solution\n",
        "def text_match(text):\n",
        "  matched_results = re.match(r\".*\\Bz.*\", text)\n",
        "  return return_matched_or_not(matched_results)\n",
        "\n",
        "print(text_match(\"The quick brown fox jumps over the lazy dog.\"))  # Found a match!\n",
        "print(text_match(\"Python Exercises.\"))  # Not matched"
      ]
    },
    {
      "cell_type": "markdown",
      "metadata": {
        "id": "L0lV07OCos3m"
      },
      "source": [
        "14) Write a Python program to match a string that contains only upper and lowercase letters, numbers, and underscores."
      ]
    },
    {
      "cell_type": "code",
      "execution_count": 2518,
      "metadata": {
        "id": "E9NcoWDhos3m",
        "trusted": true
      },
      "outputs": [
        {
          "name": "stdout",
          "output_type": "stream",
          "text": [
            "Not matched\n",
            "Found a match!\n"
          ]
        }
      ],
      "source": [
        "# Solution\n",
        "def text_match(text):\n",
        "  matched_results = re.match(r\"^[\\w\\s]*$\", text)\n",
        "  return return_matched_or_not(matched_results)\n",
        "\n",
        "print(text_match(\"The quick brown fox jumps over the lazy dog.\"))  # Not matched\n",
        "print(text_match(\"Python_Exercises_1\"))  # Found a match!\n",
        "# 📝 Notes: \n",
        "# stats with word or space, ends with word or space but thats it\n",
        "# both of any amount\n",
        "# * + ? etc go by type or object in set, not by specific char"
      ]
    },
    {
      "cell_type": "markdown",
      "metadata": {
        "id": "EvKJ8WOoos3n"
      },
      "source": [
        "15) Write a Python program where a string will start with a specific number. "
      ]
    },
    {
      "cell_type": "code",
      "execution_count": 2535,
      "metadata": {
        "id": "nWp5QysTos3n",
        "trusted": true
      },
      "outputs": [
        {
          "name": "stdout",
          "output_type": "stream",
          "text": [
            "Found a match!\n",
            "Not matched\n"
          ]
        }
      ],
      "source": [
        "# Solution\n",
        "def match_num(string, num):\n",
        "  pattern = \"^\" + str(num) # no need for raw string in this case\n",
        "  matched_results = re.match(pattern, string)\n",
        "  return return_matched_or_not(matched_results)\n",
        "  \n",
        "print(match_num('5-2345861', 5)) # True\n",
        "print(match_num('6-2345861', 5)) # False"
      ]
    },
    {
      "cell_type": "markdown",
      "metadata": {
        "id": "r_I1cbvios3t"
      },
      "source": [
        "16) Write a Python program to remove leading zeros from an IP address"
      ]
    },
    {
      "cell_type": "code",
      "execution_count": 2551,
      "metadata": {
        "id": "cRLX4hc3os3u",
        "trusted": true
      },
      "outputs": [
        {
          "name": "stdout",
          "output_type": "stream",
          "text": [
            "216.8.94.196\n"
          ]
        }
      ],
      "source": [
        "# Solution\n",
        "def rewrite_ip(ip):\n",
        "  return re.sub(r\"0\", \"\", ip) #find, #sub, #source\n",
        "\n",
        "ip = \"216.08.094.196\"\n",
        "string = rewrite_ip(ip)  # returns str\n",
        "print(string) # 216.8.94.196\n",
        "# 📝 If I wanted to make an exception for zeros in the first set of nums \n",
        "# I would have to modify the function"
      ]
    },
    {
      "cell_type": "markdown",
      "metadata": {
        "id": "ZCn9r3o2os3u"
      },
      "source": [
        "17) Write a Python program to check for a number at the end of a string."
      ]
    },
    {
      "cell_type": "code",
      "execution_count": 2566,
      "metadata": {
        "id": "Q5t9U6n8os3u",
        "trusted": true
      },
      "outputs": [
        {
          "name": "stdout",
          "output_type": "stream",
          "text": [
            "Not matched\n",
            "Found a match!\n"
          ]
        }
      ],
      "source": [
        "# Solution\n",
        "def end_num(string):\n",
        "  search_results = re.search(r\"[0-9]$\", string)\n",
        "  return return_matched_or_not(search_results)\n",
        "print(end_num('abcdef'))  # False\n",
        "print(end_num('abcdef6')) # True"
      ]
    },
    {
      "cell_type": "markdown",
      "metadata": {
        "id": "0tM4eW8Wos3v"
      },
      "source": [
        "18) Write a Python program to search the numbers (0-9) of length between 1 to 3 in a given string. "
      ]
    },
    {
      "cell_type": "code",
      "execution_count": 2580,
      "metadata": {
        "id": "7QGwzVxDos3v",
        "trusted": true
      },
      "outputs": [
        {
          "name": "stdout",
          "output_type": "stream",
          "text": [
            "1\n",
            "12\n",
            "13\n",
            "345\n"
          ]
        }
      ],
      "source": [
        "# Solution\n",
        "def print_digits(string):\n",
        "    search_results = re.findall(r\"[0-9]{1,3}\", string) \n",
        "    #print(search_results) debug\n",
        "    string_result = \"\\n\".join(result for result in search_results) # 📝 doc this vs finditer\n",
        "    print(string_result)\n",
        "\n",
        "\n",
        "string = \"Exercises number 1, 12, 13, and 345 are important\"\n",
        "print_digits(string)  # looking to return results on new line\n",
        "# Number of length 1 to 3\n",
        "# 1\n",
        "# 12\n",
        "# 13\n",
        "# 345\n",
        "# 📝 find all will find all patterns, and save them in a list\n",
        "# split will split at pattern and save to list\n",
        "# find all treats pattern as object to pull \n",
        "# split treats pattern as delimiter\n",
        "# find all and split are inverses"
      ]
    },
    {
      "cell_type": "markdown",
      "metadata": {
        "id": "43nNb7d_os3v"
      },
      "source": [
        "19) Write a Python program to search some literals strings in a string. \n",
        "Sample text : 'The quick brown fox jumps over the lazy dog.'\n",
        "Searched words : 'fox', 'dog', 'horse'"
      ]
    },
    {
      "cell_type": "code",
      "execution_count": 2593,
      "metadata": {
        "id": "KIVHxWN9os3w",
        "trusted": true
      },
      "outputs": [
        {
          "name": "stdout",
          "output_type": "stream",
          "text": [
            "Searching for \"fox\" in The quick brown fox jumps over the lazy dog.\n",
            "Matched!\n",
            "\n",
            "Searching for \"dog\" in The quick brown fox jumps over the lazy dog.\n",
            "Matched!\n",
            "\n",
            "Searching for \"horse\" in The quick brown fox jumps over the lazy dog.\n",
            "Not Matched!\n",
            "\n"
          ]
        }
      ],
      "source": [
        "# Solution\n",
        "def print_match(patterns, text):\n",
        "  for pattern in patterns:\n",
        "    matched_results = re.search(pattern, text)\n",
        "    result_string = f\"Searching for \\\"{pattern}\\\" in {text}\"\n",
        "    print(result_string)\n",
        "    if matched_results != None:\n",
        "      print(\"Matched!\\n\")  # added \\n for readabliy\n",
        "    else:\n",
        "      print(\"Not Matched!\\n\")\n",
        "  \n",
        "# 📝 Notes: \n",
        "# not actually returning search result in first {}, just returning \n",
        "# pattern we are on\n",
        "\n",
        "# we have to re-run re.search for every instance\n",
        "patterns = [ 'fox', 'dog', 'horse' ]\n",
        "text = 'The quick brown fox jumps over the lazy dog.'\n",
        "print_match(patterns, text)\n",
        "# Searching for \"fox\" in \"The quick brown fox jumps over the lazy dog.\" ->\n",
        "# Matched!\n",
        "# Searching for \"dog\" in \"The quick brown fox jumps over the lazy dog.\" ->\n",
        "# Matched!\n",
        "# Searching for \"horse\" in \"The quick brown fox jumps over the lazy dog.\" ->\n",
        "# Not Matched!"
      ]
    },
    {
      "cell_type": "markdown",
      "metadata": {
        "id": "XjdROmMhos3w"
      },
      "source": [
        "20) Write a Python program to search a literals string in a string and also find the location within the original string where the pattern occurs\n",
        "\n",
        "Sample text : 'The quick brown fox jumps over the lazy dog.'\n",
        "Searched words : 'fox'"
      ]
    },
    {
      "cell_type": "code",
      "execution_count": 2605,
      "metadata": {
        "id": "vWViImYios3w",
        "trusted": true
      },
      "outputs": [
        {
          "name": "stdout",
          "output_type": "stream",
          "text": [
            "Found \"fox\" in \"The quick brown fox jumps over the lazy dog.\" from 16 to 19\n"
          ]
        }
      ],
      "source": [
        "# Solution\n",
        "def print_match_location(pattern, text):\n",
        "  search_results = re.search(pattern, text)\n",
        "  result_string = f\"Found \\\"{pattern}\\\" in \\\"{text}\\\" from {search_results.span()[0]} to {search_results.span()[1]}\"\n",
        "  print(result_string)\n",
        "\n",
        "pattern = 'fox'\n",
        "text = 'The quick brown fox jumps over the lazy dog.'\n",
        "print_match_location(pattern, text)\n",
        "# Found \"fox\" in \"The quick brown fox jumps over the lazy dog.\" from 16 to 19\n",
        "\n",
        "# Notes: \n",
        "# Returns tuple\n",
        "# (s,e) end not inclusive"
      ]
    },
    {
      "cell_type": "markdown",
      "metadata": {
        "id": "lLRotk-Oos3x"
      },
      "source": [
        "21) Write a Python program to find the substrings within a string.\n",
        "\n",
        "Sample text :\n",
        "\n",
        "'Python exercises, PHP exercises, C# exercises'\n",
        "\n",
        "Pattern :\n",
        "\n",
        "'exercises'\n",
        "\n",
        "Note: There are three instances of exercises in the input string."
      ]
    },
    {
      "cell_type": "code",
      "execution_count": 2616,
      "metadata": {
        "id": "XU8613rTos3x",
        "trusted": true
      },
      "outputs": [
        {
          "name": "stdout",
          "output_type": "stream",
          "text": [
            "Found \"exercises\"\n",
            "Found \"exercises\"\n",
            "Found \"exercises\"\n"
          ]
        }
      ],
      "source": [
        "# Solution\n",
        "def find_all_matches(pattern, text):\n",
        "  compiled_list = re.findall(pattern, text)\n",
        "  for string in compiled_list:\n",
        "    print(f\"Found \\\"{string}\\\"\")\n",
        "\n",
        "text = 'Python exercises, PHP exercises, C# exercises'\n",
        "pattern = 'exercises'\n",
        "find_all_matches(pattern, text)\n",
        "# Found \"exercises\"\n",
        "# Found \"exercises\"\n",
        "# Found \"exercises\""
      ]
    },
    {
      "cell_type": "markdown",
      "metadata": {
        "id": "uvAY6v7Oos3x"
      },
      "source": [
        "22) Write a Python program to find the occurrence and position of the substrings within a string."
      ]
    },
    {
      "cell_type": "code",
      "execution_count": 2626,
      "metadata": {
        "id": "UFg6rXJnos3y",
        "trusted": true
      },
      "outputs": [
        {
          "name": "stdout",
          "output_type": "stream",
          "text": [
            "Found \"exercises\" at 7:16\n",
            "Found \"exercises\" at 22:31\n",
            "Found \"exercises\" at 36:45\n"
          ]
        }
      ],
      "source": [
        "# Solution\n",
        "def find_all_matches_location(pattern, text):\n",
        "  c_pattern = re.compile(pattern)\n",
        "  for match in c_pattern.finditer(text):\n",
        "    print(f\"Found \\\"{match.group()}\\\" at {match.start()}:{match.end()}\")\n",
        "\n",
        "\n",
        "\n",
        "text = 'Python exercises, PHP exercises, C# exercises'\n",
        "pattern = 'exercises'\n",
        "find_all_matches_location(pattern, text)\n",
        "# Found \"exercises\" at 7:16\n",
        "# Found \"exercises\" at 22:31\n",
        "# Found \"exercises\" at 36:45\n",
        "\n",
        "# notes: \n",
        "# experimenting with compiling a pattern and attaching methods to it \n",
        "# experimenting with find iter\n",
        "# find iter returning match objects, can use start and end per group\n"
      ]
    },
    {
      "cell_type": "markdown",
      "metadata": {
        "id": "Sb3zKxE-os3y"
      },
      "source": [
        "23) Write a Python program to replace whitespaces with an underscore and vice versa."
      ]
    },
    {
      "cell_type": "code",
      "execution_count": 2635,
      "metadata": {
        "id": "nUxR5Xvjos3z",
        "trusted": true
      },
      "outputs": [
        {
          "name": "stdout",
          "output_type": "stream",
          "text": [
            "Python_Exercises\n",
            "Python Exercises\n"
          ]
        }
      ],
      "source": [
        "text = 'Python Exercises'\n",
        "def under_swap(text):\n",
        "    choices = [\" \", \"_\"]\n",
        "    if \" \" in text:\n",
        "        pass\n",
        "    elif \"_\" in text:\n",
        "        choices.reverse()\n",
        "    substitution = re.sub(choices[0], choices[1], text)\n",
        "    return substitution\n",
        "# Your code\n",
        "\n",
        "spaces = under_swap(text)\n",
        "print(spaces)\n",
        "\n",
        "reversed = under_swap(spaces)\n",
        "print(reversed)\n",
        "\n",
        "# Note: I'm assuming string will have either white spaces or underscores but not both. \n",
        "# Second Note: trying to reverse a list with \\s causes a crash, python doesn't like that\n",
        "# for some reason, so I opted for a literal textual representation of a white space."
      ]
    },
    {
      "cell_type": "markdown",
      "metadata": {
        "id": "grqoW-pgos3z"
      },
      "source": [
        "24) Write a Python program to extract year, month and date from a an url. "
      ]
    },
    {
      "cell_type": "code",
      "execution_count": 2643,
      "metadata": {
        "id": "K2-pacqmos3z",
        "trusted": true
      },
      "outputs": [
        {
          "name": "stdout",
          "output_type": "stream",
          "text": [
            "[('2016', '09', '02')]\n"
          ]
        }
      ],
      "source": [
        "# Solution\n",
        "def extract_date(url):\n",
        "    year_month_day = r\"([0-9]{4})/([0-9]{2})/([0-9]{2})\"\n",
        "    extract_search = re.findall(year_month_day, url)\n",
        "    return extract_search\n",
        "  \n",
        "url1= \"https://www.washingtonpost.com/news/football-insider/wp/2016/09/02/odell-beckhams-fame-rests-on-one-stupid-little-ball-josh-norman-tells-author/\"\n",
        "print(extract_date(url1)) # [('2016', '09', '02')]"
      ]
    },
    {
      "cell_type": "markdown",
      "metadata": {
        "id": "gyD5AZW7os3z"
      },
      "source": [
        "25) Write a Python program to convert a date of yyyy-mm-dd format to dd-mm-yyyy format."
      ]
    },
    {
      "cell_type": "code",
      "execution_count": 2650,
      "metadata": {
        "id": "bo-jpYqZos30",
        "trusted": true
      },
      "outputs": [
        {
          "name": "stdout",
          "output_type": "stream",
          "text": [
            "Original date in YYY-MM-DD Format:  2026-01-02\n",
            "New date in DD-MM-YYYY Format:  02-01-2026\n"
          ]
        }
      ],
      "source": [
        "# Solution  # 🌟 Good question\n",
        "def change_date_format(dt):\n",
        "  capture_year_month_day = r\"(\\d{4})-(\\d{2})-(\\d{2})\"  # 1y - 2m - 3d\n",
        "  captured_result = re.search(capture_year_month_day, dt)\n",
        "  year, month, day = captured_result.groups()  # 👀 search yields a match obj w/ groups\n",
        "  # print(year, month, day) debug\n",
        "  return f\"{day}-{month}-{year}\"\n",
        "\n",
        "dt1 = \"2026-01-02\"\n",
        "print(\"Original date in YYY-MM-DD Format: \",dt1)  # Original date in YYY-MM-DD Format:  2026-01-02\n",
        "print(\"New date in DD-MM-YYYY Format: \",change_date_format(dt1))  # New date in DD-MM-YYYY Format:  02-01-2026"
      ]
    },
    {
      "cell_type": "markdown",
      "metadata": {
        "id": "IQ2SNL-gos30"
      },
      "source": [
        "26) Write a Python program to match if any words from a list of words starting with letter 'P'."
      ]
    },
    {
      "cell_type": "code",
      "execution_count": 2656,
      "metadata": {
        "id": "2hP4Twe0os31",
        "trusted": true
      },
      "outputs": [
        {
          "name": "stdout",
          "output_type": "stream",
          "text": [
            "('Python', 'PHP')\n"
          ]
        }
      ],
      "source": [
        "# Sample strings.\n",
        "def print_words_starting_with_P(words):\n",
        "  pattern = r\"(\\bP[a-zA-Z]*)\"  # has to start with P, but any chars after that is fine # 0\n",
        "  P_iter = re.compile(pattern) # 1\n",
        "  match_list = [tuple(P_iter.findall(word)) for word in words]  # list of tuples # 2, 3\n",
        "  final_string = \" \".join(str(collection) for collection in match_list if len(collection) > 0) # 4\n",
        "  print(final_string)\n",
        "\n",
        "\n",
        "words = [\"Python PHP\", \"Java JavaScript\", \"c c++\"]\n",
        "print_words_starting_with_P(words)  # ('Python', 'PHP')\n",
        "# pattern becomes object # 0, 1\n",
        "# pattern has find all method # 2\n",
        "# makes a list of all words that match from original list # 2\n",
        "# list converted to tuple # 3\n",
        "# final string, tuple converted to string if tuple is not empty # 4\n",
        "# print"
      ]
    },
    {
      "cell_type": "markdown",
      "metadata": {
        "id": "MEUMKMn0os31"
      },
      "source": [
        "27) Write a Python program to separate and print the numbers of a given string."
      ]
    },
    {
      "cell_type": "code",
      "execution_count": 2661,
      "metadata": {
        "id": "xG8c9PtUos32",
        "trusted": true
      },
      "outputs": [
        {
          "name": "stdout",
          "output_type": "stream",
          "text": [
            "10\n",
            "20\n",
            "30\n"
          ]
        }
      ],
      "source": [
        "# Solution\n",
        "def print_all_numbers(text):\n",
        "    search_results = re.finditer(r\"[0-9]+\",text) # 🌟\n",
        "    for result in search_results:\n",
        "        print(result.group())\n",
        "\n",
        "# Sample string.\n",
        "text = \"Ten 10, Twenty 20, Thirty 30\"\n",
        "print_all_numbers(text)\n",
        "# 10\n",
        "# 20\n",
        "# 30"
      ]
    },
    {
      "cell_type": "markdown",
      "metadata": {
        "id": "krdKu3Mvos32"
      },
      "source": [
        "28) Write a Python program to find all words starting with 'a' or 'e' in a given string."
      ]
    },
    {
      "cell_type": "code",
      "execution_count": 2665,
      "metadata": {
        "id": "3hsR5278os32",
        "trusted": true
      },
      "outputs": [
        {
          "name": "stdout",
          "output_type": "stream",
          "text": [
            "['example', 'eates', 'an', 'ayList', 'apacity', 'elements', 'elements', 'are', 'en', 'added', 'ayList', 'and', 'ayList', 'ed', 'accordingly']\n"
          ]
        }
      ],
      "source": [
        "# Solution\n",
        "def get_all_words_containing_a_or_e(text):\n",
        "  find_all_list = re.findall(r\"([ae][a-zA-Z]+)\",text) # 👀  ^ is w.r.t literal start of string, not word\n",
        "  return find_all_list\n",
        "\n",
        "# Input.\n",
        "text = \"The following example creates an ArrayList with a capacity of 50 elements. Four elements are then added to the ArrayList and the ArrayList is trimmed accordingly.\"\n",
        "print(get_all_words_containing_a_or_e(text))\n",
        "# ['example', 'eates', 'an', 'ayList', 'apacity', 'elements', 'elements', 'are', 'en', 'added', 'ayList', 'and', 'ayList', 'ed', 'accordingly']"
      ]
    },
    {
      "cell_type": "markdown",
      "metadata": {
        "id": "CxfIZ5o9os33"
      },
      "source": [
        "29) Write a Python program to separate and print the numbers and their position of a given string."
      ]
    },
    {
      "cell_type": "code",
      "execution_count": 2668,
      "metadata": {
        "id": "XIuiRvmAos33",
        "trusted": true
      },
      "outputs": [
        {
          "name": "stdout",
          "output_type": "stream",
          "text": [
            "50\n",
            "Index position: 62\n"
          ]
        }
      ],
      "source": [
        "# Solution\n",
        "def print_all_numbers_and_their_position(text):\n",
        "  find_all_numbers = re.finditer(\"[0-9]+\", text)\n",
        "  for num in find_all_numbers: \n",
        "    print(num.group())\n",
        "    print(f\"Index position: {num.start()}\")\n",
        "    \n",
        "\n",
        "# Input.\n",
        "text = \"The following example creates an ArrayList with a capacity of 50 elements. Four elements are then added to the ArrayList and the ArrayList is trimmed accordingly.\"\n",
        "print_all_numbers_and_their_position(text)\n",
        "# 50\n",
        "# Index position: 62"
      ]
    },
    {
      "cell_type": "markdown",
      "metadata": {
        "id": "JguO0fUjos34"
      },
      "source": [
        "30) Write a Python program to abbreviate 'Road' as 'Rd.' in a given string."
      ]
    },
    {
      "cell_type": "code",
      "execution_count": 2670,
      "metadata": {
        "id": "VJE1Xm2Bos34",
        "trusted": true
      },
      "outputs": [
        {
          "name": "stdout",
          "output_type": "stream",
          "text": [
            "21 Ramkrishna Rd.\n"
          ]
        }
      ],
      "source": [
        "# Solution\n",
        "def abbreviate_road(street):\n",
        "  replace = re.sub(\"Road\",\"Rd.\",  street)\n",
        "  return replace\n",
        "\n",
        "street = '21 Ramkrishna Road'\n",
        "\n",
        "print(abbreviate_road(street))  # 21 Ramkrishna Rd.\n"
      ]
    }
  ],
  "metadata": {
    "colab": {
      "provenance": []
    },
    "kernelspec": {
      "display_name": "base",
      "language": "python",
      "name": "python3"
    },
    "language_info": {
      "codemirror_mode": {
        "name": "ipython",
        "version": 3
      },
      "file_extension": ".py",
      "mimetype": "text/x-python",
      "name": "python",
      "nbconvert_exporter": "python",
      "pygments_lexer": "ipython3",
      "version": "3.9.13"
    },
    "vscode": {
      "interpreter": {
        "hash": "aabebee710dd5019ee905b134c48bb60ba029f425e93630a43ad944c92329650"
      }
    }
  },
  "nbformat": 4,
  "nbformat_minor": 0
}

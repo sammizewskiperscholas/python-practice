{
  "cells": [
    {
      "cell_type": "code",
      "execution_count": null,
      "metadata": {
        "id": "lbrLwTw4r9jM"
      },
      "outputs": [],
      "source": []
    },
    {
      "cell_type": "markdown",
      "metadata": {
        "id": "mtZQDWxxos3J"
      },
      "source": [
        "# 30 REGULAR EXPRESSION EXERCISES!"
      ]
    },
    {
      "cell_type": "markdown",
      "metadata": {
        "id": "6jEYHJH3os3Q"
      },
      "source": [
        "Regex, you never know when they might come in handy. It's one of the \"good programmer\"'s fundamental yet a few people actually masters them.\n",
        "\n"
      ]
    },
    {
      "cell_type": "code",
      "execution_count": 9,
      "metadata": {
        "id": "ghj1l7sQos3R",
        "trusted": true
      },
      "outputs": [],
      "source": [
        "import re"
      ]
    },
    {
      "cell_type": "markdown",
      "metadata": {
        "id": "_tO-OHUBos3T"
      },
      "source": [
        "1) Write a Python program to check that a string contains only a certain set of characters (in this case a-z, A-Z and 0-9)."
      ]
    },
    {
      "cell_type": "code",
      "execution_count": 4,
      "metadata": {
        "colab": {
          "base_uri": "https://localhost:8080/"
        },
        "id": "cXaMTykzos3V",
        "outputId": "a73c9558-3ac4-44e9-ad0f-685a8f627983",
        "trusted": true
      },
      "outputs": [
        {
          "name": "stdout",
          "output_type": "stream",
          "text": [
            "True\n",
            "False\n"
          ]
        }
      ],
      "source": [
        "# Solution\n",
        "def is_allowed_specific_char(string):\n",
        "  # Define a regex pattern\n",
        "    pattern = r\"[a-zA-Z0-9]+\"\n",
        "\n",
        "  # Use the pattern to search for ....\n",
        "    result=re.search(pattern, string)\n",
        "    if result:\n",
        "      return True\n",
        "    else:\n",
        "      return False\n",
        "    \n",
        "print(is_allowed_specific_char(\"ABCDEFabcdef123450\")) # True\n",
        "print(is_allowed_specific_char(\"*&%@#!}{\")) # False"
      ]
    },
    {
      "cell_type": "markdown",
      "metadata": {
        "id": "2oae-B8tos3W"
      },
      "source": [
        "2) Write a Python program that matches a string that has an a followed by zero or more b's"
      ]
    },
    {
      "cell_type": "code",
      "execution_count": 3,
      "metadata": {
        "id": "1LHEOOMkos3X",
        "trusted": true
      },
      "outputs": [
        {
          "name": "stdout",
          "output_type": "stream",
          "text": [
            "Found a match!\n",
            "Found a match!\n",
            "Found a match!\n",
            "Not matched\n"
          ]
        }
      ],
      "source": [
        "# Solution\n",
        "def text_match(text):\n",
        "  pattern=r\"ab*\"\n",
        "  result = re.search(pattern,text)\n",
        "  if result:\n",
        "    return \"Found a match!\"\n",
        "  else:\n",
        "    return \"Not matched\"\n",
        "\n",
        "print(text_match(\"ac\"))   # Found a match!\n",
        "print(text_match(\"abc\"))  # Found a match!\n",
        "print(text_match(\"abbc\"))   # Found a match!\n",
        "print(text_match(\"bbc\"))  # Not matched"
      ]
    },
    {
      "cell_type": "markdown",
      "metadata": {
        "id": "AQRTCmJZos3Z"
      },
      "source": [
        "3) Write a Python program that matches a string that has an a followed by one or more b's"
      ]
    },
    {
      "cell_type": "code",
      "execution_count": 4,
      "metadata": {
        "id": "H1X2NPQYos3a",
        "trusted": true
      },
      "outputs": [
        {
          "name": "stdout",
          "output_type": "stream",
          "text": [
            "Found a match!\n",
            "Found a match!\n",
            "Not matched\n",
            "Not matched\n"
          ]
        }
      ],
      "source": [
        "# Solution\n",
        "def text_match(text):\n",
        "  pattern = r\"ab+\"\n",
        "  result = re.search(pattern,text)\n",
        "  if result:\n",
        "    return \"Found a match!\"\n",
        "  else:\n",
        "    return \"Not matched\"\n",
        "\n",
        "print(text_match(\"ab\"))   # Found a match!\n",
        "print(text_match(\"abc\"))   # Found a match!\n",
        "print(text_match(\"ac\"))  # Not matched\n",
        "print(text_match(\"bbc\"))  # Not matched"
      ]
    },
    {
      "cell_type": "markdown",
      "metadata": {
        "id": "E902uTcRos3a"
      },
      "source": [
        "4) Write a Python program that matches a string that has an a followed by zero or one 'b'"
      ]
    },
    {
      "cell_type": "code",
      "execution_count": 5,
      "metadata": {
        "id": "xeva0fRNos3b",
        "trusted": true
      },
      "outputs": [
        {
          "name": "stdout",
          "output_type": "stream",
          "text": [
            "Found a match\n",
            "Found a match\n",
            "Found a match\n",
            "Found a match\n",
            "Found a match\n",
            "Not a match\n"
          ]
        }
      ],
      "source": [
        "# Solution\n",
        "def text_match(text):\n",
        "  pattern=r\"ab?\"\n",
        "  result=re.search(pattern,text)\n",
        "  if result:\n",
        "    return \"Found a match\"\n",
        "  else:\n",
        "    return \"Not a match\"\n",
        "\n",
        "\n",
        "  \n",
        "print(text_match(\"ab\"))  # Found a match!\n",
        "print(text_match(\"abc\"))  # Found a match!\n",
        "print(text_match(\"abbc\"))  # Found a match!\n",
        "print(text_match(\"aabbc\"))  # Found a match!\n",
        "print(text_match(\"ac\"))  # Found a match!\n",
        "print(text_match(\"bbc\"))  # Not matched"
      ]
    },
    {
      "cell_type": "markdown",
      "metadata": {
        "id": "whnPaW2kos3c"
      },
      "source": [
        "5) Write a Python program that matches a string that has an a followed by three 'b'"
      ]
    },
    {
      "cell_type": "code",
      "execution_count": 7,
      "metadata": {
        "id": "0c_7S3h_os3d",
        "trusted": true
      },
      "outputs": [
        {
          "name": "stdout",
          "output_type": "stream",
          "text": [
            "Found a match!\n",
            "Found a match!\n",
            "Not matched\n",
            "Not matched\n",
            "Not matched\n"
          ]
        }
      ],
      "source": [
        "# Solution\n",
        "def text_match(text):\n",
        "  pattern = r\"ab{3}\"\n",
        "  result = re.search(pattern,text)\n",
        "  if result:\n",
        "    return \"Found a match!\"\n",
        "  else:\n",
        "    return \"Not matched\"\n",
        "print(text_match(\"abbb\"))  # Found a match!\n",
        "print(text_match(\"aabbbbbc\"))  # Found a match!\n",
        "print(text_match(\"aabbc\"))  # Not matched\n",
        "print(text_match(\"ac\"))  # Not matched\n",
        "print(text_match(\"bbc\"))  # Not matched"
      ]
    },
    {
      "cell_type": "markdown",
      "metadata": {
        "id": "V4AsjJiCos3e"
      },
      "source": [
        "6) Write a Python program that matches a string that has an a followed by two to three 'b'."
      ]
    },
    {
      "cell_type": "code",
      "execution_count": 15,
      "metadata": {
        "id": "VjA5CXi1os3e",
        "trusted": true
      },
      "outputs": [
        {
          "name": "stdout",
          "output_type": "stream",
          "text": [
            "Not matched\n",
            "Found a match!\n",
            "Found a match!\n",
            "Not matched\n",
            "Not matched\n"
          ]
        }
      ],
      "source": [
        "# Solution\n",
        "def text_match(text):\n",
        "  pattern = r\"ab{2,3}\"\n",
        "  result = re.search(pattern,text)\n",
        "  if result:\n",
        "    return \"Found a match!\"\n",
        "  else:\n",
        "    return \"Not matched\"\n",
        "\n",
        "print(text_match(\"ab\"))  # Not matched\n",
        "print(text_match(\"aabbbbbc\"))  # Found a match!\n",
        "print(text_match(\"aabbc\"))  # Found a match!\n",
        "print(text_match(\"ac\"))  # Not matched\n",
        "print(text_match(\"bbc\"))  # Not matched"
      ]
    },
    {
      "cell_type": "markdown",
      "metadata": {
        "id": "kX7sLRavos3f"
      },
      "source": [
        "7) Write a Python program to find sequences of lowercase letters joined with a underscore."
      ]
    },
    {
      "cell_type": "code",
      "execution_count": 8,
      "metadata": {
        "colab": {
          "base_uri": "https://localhost:8080/"
        },
        "id": "rbxk35n7os3g",
        "outputId": "3ddca986-1bd6-45f1-902c-eee85e8853e8",
        "trusted": true
      },
      "outputs": [
        {
          "name": "stdout",
          "output_type": "stream",
          "text": [
            "Found a match!\n",
            "Not matched\n",
            "Not matched\n"
          ]
        }
      ],
      "source": [
        "# Solution\n",
        "def text_match(text):\n",
        "  pattern = r\"^[a-z]+_[a-z]+\"\n",
        "  result = re.search(pattern,text)\n",
        "  if result:\n",
        "    return \"Found a match!\"\n",
        "  else:\n",
        "    return \"Not matched\"\n",
        "  \n",
        "\n",
        "print(text_match(\"aab_cbbbc\"))  # Found a match!\n",
        "print(text_match(\"aab_Abbbc\"))  # Not matched\n",
        "print(text_match(\"Aaab_abbbc\"))  # Not matched"
      ]
    },
    {
      "cell_type": "markdown",
      "metadata": {
        "id": "H4sat-Rfos3g"
      },
      "source": [
        "8) Write a Python program to find the sequences of one upper case letter followed by lower case letters."
      ]
    },
    {
      "cell_type": "code",
      "execution_count": 9,
      "metadata": {
        "id": "oeUiVHGVos3h",
        "trusted": true
      },
      "outputs": [
        {
          "name": "stdout",
          "output_type": "stream",
          "text": [
            "Not matched\n",
            "Found a match!\n",
            "Found a match!\n"
          ]
        }
      ],
      "source": [
        "# Solution\n",
        "def text_match(text):\n",
        "  pattern = r\"[A-Z][a-z]+\"\n",
        "  result = re.search(pattern,text)\n",
        "  if result:\n",
        "    return \"Found a match!\"\n",
        "  else:\n",
        "    return \"Not matched\"\n",
        "\n",
        "\n",
        "print(text_match(\"aab_cbbbc\"))  # Not matched\n",
        "print(text_match(\"aab_Abbbc\"))  # Found a match!\n",
        "print(text_match(\"Aaab_abbbc\"))  # Found a match!"
      ]
    },
    {
      "cell_type": "markdown",
      "metadata": {
        "id": "RgNBl7aEos3h"
      },
      "source": [
        "9) Write a Python program that matches a string that has an 'a' followed by anything, ending in 'b'."
      ]
    },
    {
      "cell_type": "code",
      "execution_count": 10,
      "metadata": {
        "id": "YbCsos7Jos3i",
        "trusted": true
      },
      "outputs": [
        {
          "name": "stdout",
          "output_type": "stream",
          "text": [
            "Not matched\n",
            "Not matched\n",
            "Found a match!\n"
          ]
        }
      ],
      "source": [
        "# Solution\n",
        "def text_match(text):\n",
        "  pattern = r\"a.*b$\"\n",
        "  result = re.search(pattern,text)\n",
        "  if result:\n",
        "    return \"Found a match!\"\n",
        "  else:\n",
        "    return \"Not matched\"\n",
        "\n",
        "\n",
        "print(text_match(\"aabbbbd\"))  # Not matched\n",
        "print(text_match(\"aabAbbbc\"))  # Not matched\n",
        "print(text_match(\"accddbbjjjb\"))  # Found a match!"
      ]
    },
    {
      "cell_type": "markdown",
      "metadata": {
        "id": "0oHZnx0Gos3i"
      },
      "source": [
        "10) Write a Python program that matches a word at the beginning of a string."
      ]
    },
    {
      "cell_type": "code",
      "execution_count": 6,
      "metadata": {
        "id": "1tlZiGMaos3j",
        "trusted": true
      },
      "outputs": [
        {
          "name": "stdout",
          "output_type": "stream",
          "text": [
            "Found a match!\n",
            "Not matched\n"
          ]
        }
      ],
      "source": [
        "# Solution\n",
        "def text_match(text):\n",
        "  pattern = r\"^\\w+\"\n",
        "  result = re.search(pattern,text)\n",
        "  if result:\n",
        "    return \"Found a match!\"\n",
        "  else:\n",
        "    return \"Not matched\"\n",
        "\n",
        "\n",
        "print(text_match(\"The quick brown fox jumps over the lazy dog.\"))  # Found a match!\n",
        "print(text_match(\" The quick brown fox jumps over the lazy dog.\"))  # Not matched"
      ]
    },
    {
      "cell_type": "markdown",
      "metadata": {
        "id": "mG0jspZFos3j"
      },
      "source": [
        "11) Write a Python program that matches a word at the end of string, with optional punctuation."
      ]
    },
    {
      "cell_type": "code",
      "execution_count": 12,
      "metadata": {
        "id": "cmhnhbZnos3j",
        "trusted": true
      },
      "outputs": [
        {
          "name": "stdout",
          "output_type": "stream",
          "text": [
            "Found a match!\n",
            "Not matched\n",
            "Not matched\n"
          ]
        }
      ],
      "source": [
        "# Solution\n",
        "def text_match(text):\n",
        "  pattern = r\"\\w[.?!]?$\"\n",
        "  result = re.search(pattern,text)\n",
        "  if result:\n",
        "    return \"Found a match!\"\n",
        "  else:\n",
        "    return \"Not matched\"\n",
        "\n",
        "\n",
        "print(text_match(\"The quick brown fox jumps over the lazy dog.\"))  # Found a match!\n",
        "print(text_match(\"The quick brown fox jumps over the lazy dog. \"))  # Not matched\n",
        "print(text_match(\"The quick brown fox jumps over the lazy dog \"))  # Not matched"
      ]
    },
    {
      "cell_type": "markdown",
      "metadata": {
        "id": "DBgbyYHXos3k"
      },
      "source": [
        "12) Write a Python program that matches a word containing 'z'"
      ]
    },
    {
      "cell_type": "code",
      "execution_count": 13,
      "metadata": {
        "id": "WxuMRyCbos3k",
        "trusted": true
      },
      "outputs": [
        {
          "name": "stdout",
          "output_type": "stream",
          "text": [
            "Found a match!\n",
            "Not matched\n"
          ]
        }
      ],
      "source": [
        "# Solution\n",
        "def text_match(text):\n",
        "  pattern = r\"z\"\n",
        "  result = re.search(pattern,text)\n",
        "  if result:\n",
        "    return \"Found a match!\"\n",
        "  else:\n",
        "    return \"Not matched\"\n",
        "\n",
        "\n",
        "  \n",
        "print(text_match(\"The quick brown fox jumps over the lazy dog.\"))  # Found a match!\n",
        "print(text_match(\"Python Exercises.\"))  # Not matched"
      ]
    },
    {
      "cell_type": "markdown",
      "metadata": {
        "id": "V_9_nk8Kos3l"
      },
      "source": [
        "13) Write a Python program that matches a word containing 'z', not at the start or end of the word."
      ]
    },
    {
      "cell_type": "code",
      "execution_count": 14,
      "metadata": {
        "id": "VEhCCh7yos3l",
        "trusted": true
      },
      "outputs": [
        {
          "name": "stdout",
          "output_type": "stream",
          "text": [
            "Found a match!\n",
            "Not matched\n"
          ]
        }
      ],
      "source": [
        "# Solution\n",
        "def text_match(text):\n",
        "  pattern = r\"\\w+z\\w+\"\n",
        "  result = re.search(pattern,text)\n",
        "  if result:\n",
        "    return \"Found a match!\"\n",
        "  else:\n",
        "    return \"Not matched\"\n",
        "\n",
        "\n",
        "print(text_match(\"The quick brown fox jumps over the lazy dog.\"))  # Found a match!\n",
        "print(text_match(\"Python Exercises.\"))  # Not matched"
      ]
    },
    {
      "cell_type": "markdown",
      "metadata": {
        "id": "L0lV07OCos3m"
      },
      "source": [
        "14) Write a Python program to match a string that contains only upper and lowercase letters, numbers, and underscores."
      ]
    },
    {
      "cell_type": "code",
      "execution_count": 15,
      "metadata": {
        "id": "E9NcoWDhos3m",
        "trusted": true
      },
      "outputs": [
        {
          "name": "stdout",
          "output_type": "stream",
          "text": [
            "Not matched\n",
            "Found a match!\n"
          ]
        }
      ],
      "source": [
        "# Solution\n",
        "def text_match(text):\n",
        "  pattern = r\"^\\w+$\"\n",
        "  result = re.search(pattern,text)\n",
        "  if result:\n",
        "    return \"Found a match!\"\n",
        "  else:\n",
        "    return \"Not matched\"\n",
        "\n",
        "\n",
        "print(text_match(\"The quick brown fox jumps over the lazy dog.\"))  # Not matched\n",
        "print(text_match(\"Python_Exercises_1\"))  # Found a match!"
      ]
    },
    {
      "cell_type": "markdown",
      "metadata": {
        "id": "EvKJ8WOoos3n"
      },
      "source": [
        "15) Write a Python program where a string will start with a specific number. "
      ]
    },
    {
      "cell_type": "code",
      "execution_count": 16,
      "metadata": {
        "id": "nWp5QysTos3n",
        "trusted": true
      },
      "outputs": [
        {
          "name": "stdout",
          "output_type": "stream",
          "text": [
            "True\n",
            "False\n"
          ]
        }
      ],
      "source": [
        "# Solution\n",
        "def match_num(string):\n",
        "  pattern = r\"^5\"\n",
        "  result = re.search(pattern,string)\n",
        "  if result:\n",
        "    return True\n",
        "  else:\n",
        "    return False\n",
        "\n",
        "  \n",
        "print(match_num('5-2345861')) # True\n",
        "print(match_num('6-2345861')) # False"
      ]
    },
    {
      "cell_type": "markdown",
      "metadata": {
        "id": "r_I1cbvios3t"
      },
      "source": [
        "16) Write a Python program to remove leading zeros from an IP address"
      ]
    },
    {
      "cell_type": "code",
      "execution_count": 15,
      "metadata": {
        "id": "cRLX4hc3os3u",
        "trusted": true
      },
      "outputs": [
        {
          "name": "stdout",
          "output_type": "stream",
          "text": [
            "216.8.94.196\n"
          ]
        }
      ],
      "source": [
        "# Solution\n",
        "def rewrite_ip(ip):\n",
        "  # your code here\n",
        "  newip = re.sub(r\"\\.0+\",r\".\",ip)\n",
        "  if newip:\n",
        "    return newip\n",
        "  else:\n",
        "    return \"\"\n",
        "\n",
        "\n",
        "ip = \"216.08.094.196\"\n",
        "string = rewrite_ip(ip)\n",
        "print(string) # 216.8.94.196"
      ]
    },
    {
      "cell_type": "markdown",
      "metadata": {
        "id": "ZCn9r3o2os3u"
      },
      "source": [
        "17) Write a Python program to check for a number at the end of a string."
      ]
    },
    {
      "cell_type": "code",
      "execution_count": 18,
      "metadata": {
        "id": "Q5t9U6n8os3u",
        "trusted": true
      },
      "outputs": [
        {
          "name": "stdout",
          "output_type": "stream",
          "text": [
            "False\n",
            "True\n"
          ]
        }
      ],
      "source": [
        "# Solution\n",
        "def end_num(string):\n",
        "  pattern = r\"\\d$\"\n",
        "  result = re.search(pattern,string)\n",
        "  if result:\n",
        "    return True\n",
        "  else:\n",
        "    return False\n",
        "\n",
        "\n",
        "print(end_num('abcdef'))  # False\n",
        "print(end_num('abcdef6')) # True"
      ]
    },
    {
      "cell_type": "markdown",
      "metadata": {
        "id": "0tM4eW8Wos3v"
      },
      "source": [
        "18) Write a Python program to search the numbers (0-9) of length between 1 to 3 in a given string. "
      ]
    },
    {
      "cell_type": "code",
      "execution_count": 19,
      "metadata": {
        "id": "7QGwzVxDos3v",
        "trusted": true
      },
      "outputs": [
        {
          "name": "stdout",
          "output_type": "stream",
          "text": [
            "Number of length 1 to 3\n",
            "1\n",
            "12\n",
            "13\n",
            "345\n"
          ]
        }
      ],
      "source": [
        "# Solution\n",
        "def print_digits(string):\n",
        "  pattern = r\"\\d{1,3}\"\n",
        "  result = re.findall(pattern,string)\n",
        "  if result:\n",
        "    print(\"Number of length 1 to 3\")\n",
        "    for num in result:\n",
        "      print(num)\n",
        "  else:\n",
        "    print(\"No match found\")\n",
        "\n",
        "\n",
        "string = \"Exercises number 1, 12, 13, and 345 are important\"\n",
        "print_digits(string)\n",
        "# Number of length 1 to 3\n",
        "# 1\n",
        "# 12\n",
        "# 13\n",
        "# 345"
      ]
    },
    {
      "cell_type": "markdown",
      "metadata": {
        "id": "43nNb7d_os3v"
      },
      "source": [
        "19) Write a Python program to search some literals strings in a string. \n",
        "Sample text : 'The quick brown fox jumps over the lazy dog.'\n",
        "Searched words : 'fox', 'dog', 'horse'"
      ]
    },
    {
      "cell_type": "code",
      "execution_count": 20,
      "metadata": {
        "id": "KIVHxWN9os3w",
        "trusted": true
      },
      "outputs": [
        {
          "name": "stdout",
          "output_type": "stream",
          "text": [
            "Searching for \"fox\" in \"The quick brown fox jumps over the lazy dog.\"-> \n",
            "Matched\n",
            "Searching for \"dog\" in \"The quick brown fox jumps over the lazy dog.\"-> \n",
            "Matched\n",
            "Searching for \"horse\" in \"The quick brown fox jumps over the lazy dog.\"-> \n",
            "Not Matched\n"
          ]
        }
      ],
      "source": [
        "# Solution\n",
        "def print_match(patterns, text):\n",
        "  for pattern in patterns:\n",
        "    result = re.search(pattern,text)\n",
        "    text = re.sub(\". ->\",\".\\\"->\",text)\n",
        "    print(\"Searching for \\\"{}\\\" in \\\"{} \".format(pattern,text))\n",
        "    if result:\n",
        "      print(\"Matched\")\n",
        "    else:\n",
        "      print(\"Not Matched\")\n",
        "\n",
        "\n",
        "patterns = [ 'fox', 'dog', 'horse' ]\n",
        "text = 'The quick brown fox jumps over the lazy dog. ->'\n",
        "print_match(patterns, text)\n",
        "# Searching for \"fox\" in \"The quick brown fox jumps over the lazy dog.\" ->\n",
        "# Matched!\n",
        "# Searching for \"dog\" in \"The quick brown fox jumps over the lazy dog.\" ->\n",
        "# Matched!\n",
        "# Searching for \"horse\" in \"The quick brown fox jumps over the lazy dog.\" ->\n",
        "# Not Matched!"
      ]
    },
    {
      "cell_type": "markdown",
      "metadata": {
        "id": "XjdROmMhos3w"
      },
      "source": [
        "20) Write a Python program to search a literals string in a string and also find the location within the original string where the pattern occurs\n",
        "\n",
        "Sample text : 'The quick brown fox jumps over the lazy dog.'\n",
        "Searched words : 'fox'"
      ]
    },
    {
      "cell_type": "code",
      "execution_count": 21,
      "metadata": {
        "id": "vWViImYios3w",
        "trusted": true
      },
      "outputs": [
        {
          "name": "stdout",
          "output_type": "stream",
          "text": [
            "Found \"fox\" in \"The quick brown fox jumps over the lazy dog.\" from 16 to 19\n"
          ]
        }
      ],
      "source": [
        "# Solution\n",
        "def print_match_location(pattern, text):\n",
        "  result = re.search(pattern,text)\n",
        "  if result:\n",
        "    location = result.span()\n",
        "    print(\"Found \\\"{}\\\" in \\\"{}\\\" from {} to {}\".format(pattern,text,location[0],location[1]))\n",
        "  else:\n",
        "    print(\"No match found\")\n",
        "\n",
        "pattern = 'fox'\n",
        "text = 'The quick brown fox jumps over the lazy dog.'\n",
        "print_match_location(pattern, text)\n",
        "# Found \"fox\" in \"The quick brown fox jumps over the lazy dog.\" from 16 to 19"
      ]
    },
    {
      "cell_type": "markdown",
      "metadata": {
        "id": "lLRotk-Oos3x"
      },
      "source": [
        "21) Write a Python program to find the substrings within a string.\n",
        "\n",
        "Sample text :\n",
        "\n",
        "'Python exercises, PHP exercises, C# exercises'\n",
        "\n",
        "Pattern :\n",
        "\n",
        "'exercises'\n",
        "\n",
        "Note: There are three instances of exercises in the input string."
      ]
    },
    {
      "cell_type": "code",
      "execution_count": 22,
      "metadata": {
        "id": "XU8613rTos3x",
        "trusted": true
      },
      "outputs": [
        {
          "name": "stdout",
          "output_type": "stream",
          "text": [
            "Found \"exercises\" \n",
            "Found \"exercises\" \n",
            "Found \"exercises\" \n"
          ]
        }
      ],
      "source": [
        "# Solution\n",
        "def find_all_matches(pattern, text):\n",
        "  all_match = re.findall(pattern,text)\n",
        "  if all_match:\n",
        "    for match in all_match:\n",
        "      print(\"Found \\\"{}\\\" \".format(match))\n",
        "  else:\n",
        "    print(\"No substring Found\")\n",
        "\n",
        "text = 'Python exercises, PHP exercises, C# exercises'\n",
        "pattern = 'exercises'\n",
        "find_all_matches(pattern, text)\n",
        "# Found \"exercises\"\n",
        "# Found \"exercises\"\n",
        "# Found \"exercises\""
      ]
    },
    {
      "cell_type": "markdown",
      "metadata": {
        "id": "uvAY6v7Oos3x"
      },
      "source": [
        "22) Write a Python program to find the occurrence and position of the substrings within a string."
      ]
    },
    {
      "cell_type": "code",
      "execution_count": 23,
      "metadata": {
        "id": "UFg6rXJnos3y",
        "trusted": true
      },
      "outputs": [
        {
          "name": "stdout",
          "output_type": "stream",
          "text": [
            "Found \"exercises\" at 7:16 \n",
            "Found \"exercises\" at 22:31 \n",
            "Found \"exercises\" at 36:45 \n"
          ]
        }
      ],
      "source": [
        "# Solution\n",
        "def find_all_matches_location(pattern, text):\n",
        "  all_matches = re.finditer(pattern,text)\n",
        "  if all_matches:\n",
        "    for match in all_matches:\n",
        "      position=match.span()\n",
        "      print(\"Found \\\"{}\\\" at {}:{} \".format(match.group(),position[0],position[1]))\n",
        "  else:\n",
        "    print(\"Not Found \\\"{}\\\" in \\\"{}\\\"\".format(pattern,text))\n",
        "\n",
        "text = 'Python exercises, PHP exercises, C# exercises'\n",
        "pattern = 'exercises'\n",
        "find_all_matches_location(pattern, text)\n",
        "# Found \"exercises\" at 7:16\n",
        "# Found \"exercises\" at 22:31\n",
        "# Found \"exercises\" at 36:45"
      ]
    },
    {
      "cell_type": "markdown",
      "metadata": {
        "id": "Sb3zKxE-os3y"
      },
      "source": [
        "23) Write a Python program to replace whitespaces with an underscore and vice versa."
      ]
    },
    {
      "cell_type": "code",
      "execution_count": 24,
      "metadata": {
        "id": "nUxR5Xvjos3z",
        "trusted": true
      },
      "outputs": [
        {
          "name": "stdout",
          "output_type": "stream",
          "text": [
            "Python_Exercises\n",
            "Python Exercises\n"
          ]
        }
      ],
      "source": [
        "text = 'Python Exercises'\n",
        "\n",
        "text = re.sub(r\" \",r\"_\",text)\n",
        "\n",
        "print(text) # Python_Exercises\n",
        "\n",
        "# Your code\n",
        "text = re.sub(r\"_\",r\" \",text)\n",
        "\n",
        "print(text) # Python Exercises"
      ]
    },
    {
      "cell_type": "markdown",
      "metadata": {
        "id": "grqoW-pgos3z"
      },
      "source": [
        "24) Write a Python program to extract year, month and date from a an url. "
      ]
    },
    {
      "cell_type": "code",
      "execution_count": 25,
      "metadata": {
        "id": "K2-pacqmos3z",
        "trusted": true
      },
      "outputs": [
        {
          "name": "stdout",
          "output_type": "stream",
          "text": [
            "[('2016', '09', '02')]\n"
          ]
        }
      ],
      "source": [
        "# Solution\n",
        "def extract_date(url):\n",
        "  pattern=r\"/(\\d{4})/(\\d{2})/(\\d{2})/\"\n",
        "  result= re.findall(pattern,url)\n",
        "  if result:\n",
        "    return result\n",
        "  else:\n",
        "    return \"No date found in {}\".format(url)\n",
        "  \n",
        "url1= \"https://www.washingtonpost.com/news/football-insider/wp/2016/09/02/odell-beckhams-fame-rests-on-one-stupid-little-ball-josh-norman-tells-author/\"\n",
        "print(extract_date(url1)) # [('2016', '09', '02')]"
      ]
    },
    {
      "cell_type": "markdown",
      "metadata": {
        "id": "gyD5AZW7os3z"
      },
      "source": [
        "25) Write a Python program to convert a date of yyyy-mm-dd format to dd-mm-yyyy format."
      ]
    },
    {
      "cell_type": "code",
      "execution_count": 26,
      "metadata": {
        "id": "bo-jpYqZos30",
        "trusted": true
      },
      "outputs": [
        {
          "name": "stdout",
          "output_type": "stream",
          "text": [
            "Original date in YYY-MM-DD Format:  2026-01-02\n",
            "New date in DD-MM-YYYY Format:  02-01-2026\n"
          ]
        }
      ],
      "source": [
        "# Solution\n",
        "def change_date_format(dt):\n",
        "  dt = re.sub(r\"(\\d{4})-(\\d{2})-(\\d{2})\",r\"\\3-\\2-\\1\",dt)\n",
        "  if dt:\n",
        "    return dt\n",
        "  else:\n",
        "    return \"Not proper date format\"\n",
        "dt1 = \"2026-01-02\"\n",
        "print(\"Original date in YYY-MM-DD Format: \",dt1)  # Original date in YYY-MM-DD Format:  2026-01-02\n",
        "print(\"New date in DD-MM-YYYY Format: \",change_date_format(dt1))  # New date in DD-MM-YYYY Format:  02-01-2026"
      ]
    },
    {
      "cell_type": "markdown",
      "metadata": {
        "id": "IQ2SNL-gos30"
      },
      "source": [
        "26) Write a Python program to match if any words from a list of words starting with letter 'P'."
      ]
    },
    {
      "cell_type": "code",
      "execution_count": 27,
      "metadata": {
        "id": "2hP4Twe0os31",
        "trusted": true
      },
      "outputs": [
        {
          "name": "stdout",
          "output_type": "stream",
          "text": [
            "('Python', 'PHP')\n"
          ]
        }
      ],
      "source": [
        "# Sample strings.\n",
        "def print_words_starting_with_P(words):\n",
        "  pattern = r\"(P\\w*)\\s(P\\w*)\"\n",
        "  for word in words:\n",
        "    result = re.match(pattern,word)\n",
        "    if result:\n",
        "      print(result.groups())\n",
        "\n",
        "\n",
        "\n",
        "words = [\"Python PHP\", \"Java JavaScript\", \"c c++\"]\n",
        "print_words_starting_with_P(words)  # ('Python', 'PHP')"
      ]
    },
    {
      "cell_type": "markdown",
      "metadata": {
        "id": "MEUMKMn0os31"
      },
      "source": [
        "27) Write a Python program to separate and print the numbers of a given string."
      ]
    },
    {
      "cell_type": "code",
      "execution_count": 28,
      "metadata": {
        "id": "xG8c9PtUos32",
        "trusted": true
      },
      "outputs": [
        {
          "name": "stdout",
          "output_type": "stream",
          "text": [
            "10\n",
            "20\n",
            "30\n"
          ]
        }
      ],
      "source": [
        "# Solution\n",
        "def print_all_numbers(text):\n",
        "  numbers=re.findall(\"(\\d+)\",text)\n",
        "  if numbers:\n",
        "    for number in numbers:\n",
        "      print(number)\n",
        "  else:\n",
        "    print(\"No numbers found in the given string\")\n",
        "\n",
        "# Sample string.\n",
        "text = \"Ten 10, Twenty 20, Thirty 30\"\n",
        "print_all_numbers(text)\n",
        "# 10\n",
        "# 20\n",
        "# 30"
      ]
    },
    {
      "cell_type": "markdown",
      "metadata": {
        "id": "krdKu3Mvos32"
      },
      "source": [
        "28) Write a Python program to find all words starting with 'a' or 'e' in a given string."
      ]
    },
    {
      "cell_type": "code",
      "execution_count": 29,
      "metadata": {
        "id": "3hsR5278os32",
        "trusted": true
      },
      "outputs": [
        {
          "name": "stdout",
          "output_type": "stream",
          "text": [
            "['example', 'eates', 'an', 'ayList', 'apacity', 'elements', 'elements', 'are', 'en', 'added', 'ayList', 'and', 'ayList', 'ed', 'accordingly']\n"
          ]
        }
      ],
      "source": [
        "# Solution\n",
        "def get_all_words_containing_a_or_e(text):\n",
        "  pattern = r\"[ae]\\w+\"\n",
        "  all_words_containing_a_or_e=re.findall(pattern,text)\n",
        "  if all_words_containing_a_or_e:\n",
        "    return all_words_containing_a_or_e\n",
        "  else:\n",
        "    return \"No words found starting with 'a ' or 'e' \"\n",
        "\n",
        "# Input.\n",
        "text = \"The following example creates an ArrayList with a capacity of 50 elements. Four elements are then added to the ArrayList and the ArrayList is trimmed accordingly.\"\n",
        "print(get_all_words_containing_a_or_e(text))\n",
        "# ['example', 'eates', 'an', 'ayList', 'apacity', 'elements', 'elements', 'are', 'en', 'added', 'ayList', 'and', 'ayList', 'ed', 'accordingly']"
      ]
    },
    {
      "cell_type": "markdown",
      "metadata": {
        "id": "CxfIZ5o9os33"
      },
      "source": [
        "29) Write a Python program to separate and print the numbers and their position of a given string."
      ]
    },
    {
      "cell_type": "code",
      "execution_count": 17,
      "metadata": {
        "id": "XIuiRvmAos33",
        "trusted": true
      },
      "outputs": [
        {
          "name": "stdout",
          "output_type": "stream",
          "text": [
            "50\n",
            "Index position: 62\n"
          ]
        }
      ],
      "source": [
        "# Solution\n",
        "def print_all_numbers_and_their_position(text):\n",
        "  pattern=r\"\\d+\"\n",
        "  numbers = re.finditer(pattern,text)\n",
        "  if numbers:\n",
        "    for number in numbers:\n",
        "      position = number.span()\n",
        "      print(number.group())\n",
        "      print(\"Index position: {}\".format(position[0]))\n",
        "  else:\n",
        "    print(\"No number present in {}\".format(text))\n",
        "\n",
        "# Input.\n",
        "text = \"The following example creates an ArrayList with a capacity of 50 elements. Four elements are then added to the ArrayList and the ArrayList is trimmed accordingly.\"\n",
        "print_all_numbers_and_their_position(text)\n",
        "# 50\n",
        "# Index position: 62"
      ]
    },
    {
      "cell_type": "markdown",
      "metadata": {
        "id": "JguO0fUjos34"
      },
      "source": [
        "30) Write a Python program to abbreviate 'Road' as 'Rd.' in a given string."
      ]
    },
    {
      "cell_type": "code",
      "execution_count": 31,
      "metadata": {
        "id": "VJE1Xm2Bos34",
        "trusted": true
      },
      "outputs": [
        {
          "name": "stdout",
          "output_type": "stream",
          "text": [
            "21 Ramkrishna Rd.\n"
          ]
        }
      ],
      "source": [
        "# Solution\n",
        "def abbreviate_road(street):\n",
        "  result = re.sub(r\"Road\",\"Rd.\",street)\n",
        "  if result:\n",
        "    return result\n",
        "  else:\n",
        "    return street\n",
        "\n",
        "street = '21 Ramkrishna Road'\n",
        "\n",
        "print(abbreviate_road(street))  # 21 Ramkrishna Rd.\n"
      ]
    }
  ],
  "metadata": {
    "colab": {
      "provenance": []
    },
    "kernelspec": {
      "display_name": "Python 3",
      "language": "python",
      "name": "python3"
    },
    "language_info": {
      "codemirror_mode": {
        "name": "ipython",
        "version": 3
      },
      "file_extension": ".py",
      "mimetype": "text/x-python",
      "name": "python",
      "nbconvert_exporter": "python",
      "pygments_lexer": "ipython3",
      "version": "3.10.7 (tags/v3.10.7:6cc6b13, Sep  5 2022, 14:08:36) [MSC v.1933 64 bit (AMD64)]"
    },
    "vscode": {
      "interpreter": {
        "hash": "22164d6654b3b862ae6a9abc692910f9c626fc6121af848cce8f69099c750d18"
      }
    }
  },
  "nbformat": 4,
  "nbformat_minor": 0
}
